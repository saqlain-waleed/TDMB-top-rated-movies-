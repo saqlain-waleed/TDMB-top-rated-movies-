{
 "cells": [
  {
   "cell_type": "code",
   "execution_count": 94,
   "id": "9aa098fa-d0e3-42d1-8a15-5c1ad0f58e5b",
   "metadata": {},
   "outputs": [],
   "source": [
    "import pandas as pd \n",
    "import numpy as np\n",
    "import plotly.graph_objects as go\n",
    "import plotly.express as px\n"
   ]
  },
  {
   "cell_type": "markdown",
   "id": "57d9aae3-e495-4821-bd00-c6edb76d04bb",
   "metadata": {},
   "source": [
    "# TDMb movies data gathering using API"
   ]
  },
  {
   "cell_type": "code",
   "execution_count": 40,
   "id": "0a326de5-52a3-452a-ba11-ddd3cbcd0b4f",
   "metadata": {},
   "outputs": [],
   "source": [
    "import requests"
   ]
  },
  {
   "cell_type": "code",
   "execution_count": 47,
   "id": "acd1df6b-6ad2-4f5f-b9fd-6bf2eb9e579a",
   "metadata": {},
   "outputs": [],
   "source": [
    "import requests\n",
    "import pandas as pd\n",
    "df_list = []\n",
    "\n",
    "for i in range(1, 479):\n",
    "    response = requests.get(\"https://api.themoviedb.org/3/movie/top_rated?api_key=4f7727e555cad72c613c5a1f8c8ece44&page={}\".format(i))\n",
    "    Temp_df = pd.DataFrame(response.json()['results'])[['id', 'original_title', 'popularity', 'release_date', 'vote_average', 'vote_count', 'overview']]\n",
    "    df_list.append(Temp_df)\n",
    "\n"
   ]
  },
  {
   "cell_type": "code",
   "execution_count": 48,
   "id": "3b0672d4-dc03-4361-9194-580eaf3008b6",
   "metadata": {},
   "outputs": [],
   "source": [
    "df = pd.concat(df_list, ignore_index=True)\n"
   ]
  },
  {
   "cell_type": "code",
   "execution_count": 49,
   "id": "baf4fd53-5a97-4dac-ae76-8144ef17757a",
   "metadata": {},
   "outputs": [
    {
     "data": {
      "text/html": [
       "<div>\n",
       "<style scoped>\n",
       "    .dataframe tbody tr th:only-of-type {\n",
       "        vertical-align: middle;\n",
       "    }\n",
       "\n",
       "    .dataframe tbody tr th {\n",
       "        vertical-align: top;\n",
       "    }\n",
       "\n",
       "    .dataframe thead th {\n",
       "        text-align: right;\n",
       "    }\n",
       "</style>\n",
       "<table border=\"1\" class=\"dataframe\">\n",
       "  <thead>\n",
       "    <tr style=\"text-align: right;\">\n",
       "      <th></th>\n",
       "      <th>id</th>\n",
       "      <th>original_title</th>\n",
       "      <th>popularity</th>\n",
       "      <th>release_date</th>\n",
       "      <th>vote_average</th>\n",
       "      <th>vote_count</th>\n",
       "      <th>overview</th>\n",
       "    </tr>\n",
       "  </thead>\n",
       "  <tbody>\n",
       "    <tr>\n",
       "      <th>0</th>\n",
       "      <td>278</td>\n",
       "      <td>The Shawshank Redemption</td>\n",
       "      <td>150.576</td>\n",
       "      <td>1994-09-23</td>\n",
       "      <td>8.706</td>\n",
       "      <td>26596</td>\n",
       "      <td>Imprisoned in the 1940s for the double murder ...</td>\n",
       "    </tr>\n",
       "    <tr>\n",
       "      <th>1</th>\n",
       "      <td>238</td>\n",
       "      <td>The Godfather</td>\n",
       "      <td>386.488</td>\n",
       "      <td>1972-03-14</td>\n",
       "      <td>8.700</td>\n",
       "      <td>20184</td>\n",
       "      <td>Spanning the years 1945 to 1955, a chronicle o...</td>\n",
       "    </tr>\n",
       "    <tr>\n",
       "      <th>2</th>\n",
       "      <td>240</td>\n",
       "      <td>The Godfather Part II</td>\n",
       "      <td>102.931</td>\n",
       "      <td>1974-12-20</td>\n",
       "      <td>8.600</td>\n",
       "      <td>12180</td>\n",
       "      <td>In the continuing saga of the Corleone crime f...</td>\n",
       "    </tr>\n",
       "    <tr>\n",
       "      <th>3</th>\n",
       "      <td>424</td>\n",
       "      <td>Schindler's List</td>\n",
       "      <td>76.169</td>\n",
       "      <td>1993-12-15</td>\n",
       "      <td>8.565</td>\n",
       "      <td>15583</td>\n",
       "      <td>The true story of how businessman Oskar Schind...</td>\n",
       "    </tr>\n",
       "    <tr>\n",
       "      <th>4</th>\n",
       "      <td>389</td>\n",
       "      <td>12 Angry Men</td>\n",
       "      <td>53.155</td>\n",
       "      <td>1957-04-10</td>\n",
       "      <td>8.543</td>\n",
       "      <td>8431</td>\n",
       "      <td>The defense and the prosecution have rested an...</td>\n",
       "    </tr>\n",
       "    <tr>\n",
       "      <th>...</th>\n",
       "      <td>...</td>\n",
       "      <td>...</td>\n",
       "      <td>...</td>\n",
       "      <td>...</td>\n",
       "      <td>...</td>\n",
       "      <td>...</td>\n",
       "      <td>...</td>\n",
       "    </tr>\n",
       "    <tr>\n",
       "      <th>9553</th>\n",
       "      <td>12142</td>\n",
       "      <td>Alone in the Dark</td>\n",
       "      <td>13.579</td>\n",
       "      <td>2005-01-28</td>\n",
       "      <td>3.200</td>\n",
       "      <td>592</td>\n",
       "      <td>Edward Carnby is a private investigator specia...</td>\n",
       "    </tr>\n",
       "    <tr>\n",
       "      <th>9554</th>\n",
       "      <td>13805</td>\n",
       "      <td>Disaster Movie</td>\n",
       "      <td>20.064</td>\n",
       "      <td>2008-08-29</td>\n",
       "      <td>3.181</td>\n",
       "      <td>1009</td>\n",
       "      <td>Over the course of one evening, an unsuspectin...</td>\n",
       "    </tr>\n",
       "    <tr>\n",
       "      <th>9555</th>\n",
       "      <td>11059</td>\n",
       "      <td>House of the Dead</td>\n",
       "      <td>26.954</td>\n",
       "      <td>2003-04-11</td>\n",
       "      <td>3.139</td>\n",
       "      <td>375</td>\n",
       "      <td>Set on an island off the coast, a techno rave ...</td>\n",
       "    </tr>\n",
       "    <tr>\n",
       "      <th>9556</th>\n",
       "      <td>14164</td>\n",
       "      <td>Dragonball Evolution</td>\n",
       "      <td>20.315</td>\n",
       "      <td>2009-03-12</td>\n",
       "      <td>2.895</td>\n",
       "      <td>2004</td>\n",
       "      <td>On his 18th birthday, Goku receives a mystical...</td>\n",
       "    </tr>\n",
       "    <tr>\n",
       "      <th>9557</th>\n",
       "      <td>40016</td>\n",
       "      <td>Birdemic: Shock and Terror</td>\n",
       "      <td>12.692</td>\n",
       "      <td>2010-02-27</td>\n",
       "      <td>2.183</td>\n",
       "      <td>327</td>\n",
       "      <td>A platoon of eagles and vultures attacks the r...</td>\n",
       "    </tr>\n",
       "  </tbody>\n",
       "</table>\n",
       "<p>9558 rows × 7 columns</p>\n",
       "</div>"
      ],
      "text/plain": [
       "         id              original_title  popularity release_date  \\\n",
       "0       278    The Shawshank Redemption     150.576   1994-09-23   \n",
       "1       238               The Godfather     386.488   1972-03-14   \n",
       "2       240       The Godfather Part II     102.931   1974-12-20   \n",
       "3       424            Schindler's List      76.169   1993-12-15   \n",
       "4       389                12 Angry Men      53.155   1957-04-10   \n",
       "...     ...                         ...         ...          ...   \n",
       "9553  12142           Alone in the Dark      13.579   2005-01-28   \n",
       "9554  13805              Disaster Movie      20.064   2008-08-29   \n",
       "9555  11059           House of the Dead      26.954   2003-04-11   \n",
       "9556  14164        Dragonball Evolution      20.315   2009-03-12   \n",
       "9557  40016  Birdemic: Shock and Terror      12.692   2010-02-27   \n",
       "\n",
       "      vote_average  vote_count  \\\n",
       "0            8.706       26596   \n",
       "1            8.700       20184   \n",
       "2            8.600       12180   \n",
       "3            8.565       15583   \n",
       "4            8.543        8431   \n",
       "...            ...         ...   \n",
       "9553         3.200         592   \n",
       "9554         3.181        1009   \n",
       "9555         3.139         375   \n",
       "9556         2.895        2004   \n",
       "9557         2.183         327   \n",
       "\n",
       "                                               overview  \n",
       "0     Imprisoned in the 1940s for the double murder ...  \n",
       "1     Spanning the years 1945 to 1955, a chronicle o...  \n",
       "2     In the continuing saga of the Corleone crime f...  \n",
       "3     The true story of how businessman Oskar Schind...  \n",
       "4     The defense and the prosecution have rested an...  \n",
       "...                                                 ...  \n",
       "9553  Edward Carnby is a private investigator specia...  \n",
       "9554  Over the course of one evening, an unsuspectin...  \n",
       "9555  Set on an island off the coast, a techno rave ...  \n",
       "9556  On his 18th birthday, Goku receives a mystical...  \n",
       "9557  A platoon of eagles and vultures attacks the r...  \n",
       "\n",
       "[9558 rows x 7 columns]"
      ]
     },
     "execution_count": 49,
     "metadata": {},
     "output_type": "execute_result"
    }
   ],
   "source": [
    "df"
   ]
  },
  {
   "cell_type": "code",
   "execution_count": 51,
   "id": "efce2085-c7c5-42ed-8ee1-7f0c11ad7f4f",
   "metadata": {},
   "outputs": [],
   "source": [
    "df.to_csv('tmdb data gathering using API.csv')"
   ]
  },
  {
   "cell_type": "code",
   "execution_count": 52,
   "id": "ab9a0025-03e8-4d54-99c5-c4d2bc2ce699",
   "metadata": {},
   "outputs": [],
   "source": [
    "movies=pd.read_csv('tmdb data gathering using API.csv')"
   ]
  },
  {
   "cell_type": "code",
   "execution_count": 53,
   "id": "2d06ca59-b808-41c2-a787-d68768da4534",
   "metadata": {},
   "outputs": [
    {
     "data": {
      "text/html": [
       "<div>\n",
       "<style scoped>\n",
       "    .dataframe tbody tr th:only-of-type {\n",
       "        vertical-align: middle;\n",
       "    }\n",
       "\n",
       "    .dataframe tbody tr th {\n",
       "        vertical-align: top;\n",
       "    }\n",
       "\n",
       "    .dataframe thead th {\n",
       "        text-align: right;\n",
       "    }\n",
       "</style>\n",
       "<table border=\"1\" class=\"dataframe\">\n",
       "  <thead>\n",
       "    <tr style=\"text-align: right;\">\n",
       "      <th></th>\n",
       "      <th>Unnamed: 0</th>\n",
       "      <th>id</th>\n",
       "      <th>original_title</th>\n",
       "      <th>popularity</th>\n",
       "      <th>release_date</th>\n",
       "      <th>vote_average</th>\n",
       "      <th>vote_count</th>\n",
       "      <th>overview</th>\n",
       "    </tr>\n",
       "  </thead>\n",
       "  <tbody>\n",
       "    <tr>\n",
       "      <th>0</th>\n",
       "      <td>0</td>\n",
       "      <td>278</td>\n",
       "      <td>The Shawshank Redemption</td>\n",
       "      <td>150.576</td>\n",
       "      <td>1994-09-23</td>\n",
       "      <td>8.706</td>\n",
       "      <td>26596</td>\n",
       "      <td>Imprisoned in the 1940s for the double murder ...</td>\n",
       "    </tr>\n",
       "    <tr>\n",
       "      <th>1</th>\n",
       "      <td>1</td>\n",
       "      <td>238</td>\n",
       "      <td>The Godfather</td>\n",
       "      <td>386.488</td>\n",
       "      <td>1972-03-14</td>\n",
       "      <td>8.700</td>\n",
       "      <td>20184</td>\n",
       "      <td>Spanning the years 1945 to 1955, a chronicle o...</td>\n",
       "    </tr>\n",
       "    <tr>\n",
       "      <th>2</th>\n",
       "      <td>2</td>\n",
       "      <td>240</td>\n",
       "      <td>The Godfather Part II</td>\n",
       "      <td>102.931</td>\n",
       "      <td>1974-12-20</td>\n",
       "      <td>8.600</td>\n",
       "      <td>12180</td>\n",
       "      <td>In the continuing saga of the Corleone crime f...</td>\n",
       "    </tr>\n",
       "    <tr>\n",
       "      <th>3</th>\n",
       "      <td>3</td>\n",
       "      <td>424</td>\n",
       "      <td>Schindler's List</td>\n",
       "      <td>76.169</td>\n",
       "      <td>1993-12-15</td>\n",
       "      <td>8.565</td>\n",
       "      <td>15583</td>\n",
       "      <td>The true story of how businessman Oskar Schind...</td>\n",
       "    </tr>\n",
       "    <tr>\n",
       "      <th>4</th>\n",
       "      <td>4</td>\n",
       "      <td>389</td>\n",
       "      <td>12 Angry Men</td>\n",
       "      <td>53.155</td>\n",
       "      <td>1957-04-10</td>\n",
       "      <td>8.543</td>\n",
       "      <td>8431</td>\n",
       "      <td>The defense and the prosecution have rested an...</td>\n",
       "    </tr>\n",
       "    <tr>\n",
       "      <th>...</th>\n",
       "      <td>...</td>\n",
       "      <td>...</td>\n",
       "      <td>...</td>\n",
       "      <td>...</td>\n",
       "      <td>...</td>\n",
       "      <td>...</td>\n",
       "      <td>...</td>\n",
       "      <td>...</td>\n",
       "    </tr>\n",
       "    <tr>\n",
       "      <th>9553</th>\n",
       "      <td>9553</td>\n",
       "      <td>12142</td>\n",
       "      <td>Alone in the Dark</td>\n",
       "      <td>13.579</td>\n",
       "      <td>2005-01-28</td>\n",
       "      <td>3.200</td>\n",
       "      <td>592</td>\n",
       "      <td>Edward Carnby is a private investigator specia...</td>\n",
       "    </tr>\n",
       "    <tr>\n",
       "      <th>9554</th>\n",
       "      <td>9554</td>\n",
       "      <td>13805</td>\n",
       "      <td>Disaster Movie</td>\n",
       "      <td>20.064</td>\n",
       "      <td>2008-08-29</td>\n",
       "      <td>3.181</td>\n",
       "      <td>1009</td>\n",
       "      <td>Over the course of one evening, an unsuspectin...</td>\n",
       "    </tr>\n",
       "    <tr>\n",
       "      <th>9555</th>\n",
       "      <td>9555</td>\n",
       "      <td>11059</td>\n",
       "      <td>House of the Dead</td>\n",
       "      <td>26.954</td>\n",
       "      <td>2003-04-11</td>\n",
       "      <td>3.139</td>\n",
       "      <td>375</td>\n",
       "      <td>Set on an island off the coast, a techno rave ...</td>\n",
       "    </tr>\n",
       "    <tr>\n",
       "      <th>9556</th>\n",
       "      <td>9556</td>\n",
       "      <td>14164</td>\n",
       "      <td>Dragonball Evolution</td>\n",
       "      <td>20.315</td>\n",
       "      <td>2009-03-12</td>\n",
       "      <td>2.895</td>\n",
       "      <td>2004</td>\n",
       "      <td>On his 18th birthday, Goku receives a mystical...</td>\n",
       "    </tr>\n",
       "    <tr>\n",
       "      <th>9557</th>\n",
       "      <td>9557</td>\n",
       "      <td>40016</td>\n",
       "      <td>Birdemic: Shock and Terror</td>\n",
       "      <td>12.692</td>\n",
       "      <td>2010-02-27</td>\n",
       "      <td>2.183</td>\n",
       "      <td>327</td>\n",
       "      <td>A platoon of eagles and vultures attacks the r...</td>\n",
       "    </tr>\n",
       "  </tbody>\n",
       "</table>\n",
       "<p>9558 rows × 8 columns</p>\n",
       "</div>"
      ],
      "text/plain": [
       "      Unnamed: 0     id              original_title  popularity release_date  \\\n",
       "0              0    278    The Shawshank Redemption     150.576   1994-09-23   \n",
       "1              1    238               The Godfather     386.488   1972-03-14   \n",
       "2              2    240       The Godfather Part II     102.931   1974-12-20   \n",
       "3              3    424            Schindler's List      76.169   1993-12-15   \n",
       "4              4    389                12 Angry Men      53.155   1957-04-10   \n",
       "...          ...    ...                         ...         ...          ...   \n",
       "9553        9553  12142           Alone in the Dark      13.579   2005-01-28   \n",
       "9554        9554  13805              Disaster Movie      20.064   2008-08-29   \n",
       "9555        9555  11059           House of the Dead      26.954   2003-04-11   \n",
       "9556        9556  14164        Dragonball Evolution      20.315   2009-03-12   \n",
       "9557        9557  40016  Birdemic: Shock and Terror      12.692   2010-02-27   \n",
       "\n",
       "      vote_average  vote_count  \\\n",
       "0            8.706       26596   \n",
       "1            8.700       20184   \n",
       "2            8.600       12180   \n",
       "3            8.565       15583   \n",
       "4            8.543        8431   \n",
       "...            ...         ...   \n",
       "9553         3.200         592   \n",
       "9554         3.181        1009   \n",
       "9555         3.139         375   \n",
       "9556         2.895        2004   \n",
       "9557         2.183         327   \n",
       "\n",
       "                                               overview  \n",
       "0     Imprisoned in the 1940s for the double murder ...  \n",
       "1     Spanning the years 1945 to 1955, a chronicle o...  \n",
       "2     In the continuing saga of the Corleone crime f...  \n",
       "3     The true story of how businessman Oskar Schind...  \n",
       "4     The defense and the prosecution have rested an...  \n",
       "...                                                 ...  \n",
       "9553  Edward Carnby is a private investigator specia...  \n",
       "9554  Over the course of one evening, an unsuspectin...  \n",
       "9555  Set on an island off the coast, a techno rave ...  \n",
       "9556  On his 18th birthday, Goku receives a mystical...  \n",
       "9557  A platoon of eagles and vultures attacks the r...  \n",
       "\n",
       "[9558 rows x 8 columns]"
      ]
     },
     "execution_count": 53,
     "metadata": {},
     "output_type": "execute_result"
    }
   ],
   "source": [
    "movies"
   ]
  },
  {
   "cell_type": "code",
   "execution_count": 56,
   "id": "8a606a41-0f50-419c-84cd-bd82c59f4440",
   "metadata": {},
   "outputs": [
    {
     "name": "stdout",
     "output_type": "stream",
     "text": [
      "<class 'pandas.core.frame.DataFrame'>\n",
      "RangeIndex: 9558 entries, 0 to 9557\n",
      "Data columns (total 8 columns):\n",
      " #   Column          Non-Null Count  Dtype  \n",
      "---  ------          --------------  -----  \n",
      " 0   Unnamed: 0      9558 non-null   int64  \n",
      " 1   id              9558 non-null   int64  \n",
      " 2   original_title  9558 non-null   object \n",
      " 3   popularity      9558 non-null   float64\n",
      " 4   release_date    9558 non-null   object \n",
      " 5   vote_average    9558 non-null   float64\n",
      " 6   vote_count      9558 non-null   int64  \n",
      " 7   overview        9556 non-null   object \n",
      "dtypes: float64(2), int64(3), object(3)\n",
      "memory usage: 597.5+ KB\n"
     ]
    }
   ],
   "source": [
    "movies.info()"
   ]
  },
  {
   "cell_type": "code",
   "execution_count": 113,
   "id": "dac8f8ba-e020-403d-bfe0-96e878e4219f",
   "metadata": {},
   "outputs": [],
   "source": [
    "parts=movies['original_title'].value_counts(ascending=False).reset_index().head(30)"
   ]
  },
  {
   "cell_type": "code",
   "execution_count": 114,
   "id": "a1550721-7b99-43c6-b584-278d607673ea",
   "metadata": {},
   "outputs": [
    {
     "data": {
      "application/vnd.plotly.v1+json": {
       "config": {
        "plotlyServerURL": "https://plot.ly"
       },
       "data": [
        {
         "marker": {
          "color": "blue"
         },
         "type": "bar",
         "x": [
          "Return",
          "Pinocchio",
          "Alice in Wonderland",
          "The Mummy",
          "Black Christmas",
          "Get Carter",
          "The Thing",
          "The Little Mermaid",
          "Shut In",
          "Carrie",
          "Les Misérables",
          "The Jungle Book",
          "Great Expectations",
          "Cinderella",
          "Prey",
          "Halloween",
          "Robin Hood",
          "Inferno",
          "Life",
          "Shaft",
          "Day of the Dead",
          "Lights Out",
          "The Italian Job",
          "Ocean's Eleven",
          "The Wicker Man",
          "Those People",
          "...più forte ragazzi!",
          "Mean Girls",
          "Brigsby Bear",
          "The Omen"
         ],
         "y": [
          9,
          4,
          4,
          3,
          3,
          3,
          3,
          3,
          3,
          3,
          3,
          3,
          3,
          3,
          3,
          3,
          3,
          3,
          3,
          3,
          2,
          2,
          2,
          2,
          2,
          2,
          2,
          2,
          2,
          2
         ]
        }
       ],
       "layout": {
        "autosize": true,
        "template": {
         "data": {
          "bar": [
           {
            "error_x": {
             "color": "#2a3f5f"
            },
            "error_y": {
             "color": "#2a3f5f"
            },
            "marker": {
             "line": {
              "color": "#E5ECF6",
              "width": 0.5
             },
             "pattern": {
              "fillmode": "overlay",
              "size": 10,
              "solidity": 0.2
             }
            },
            "type": "bar"
           }
          ],
          "barpolar": [
           {
            "marker": {
             "line": {
              "color": "#E5ECF6",
              "width": 0.5
             },
             "pattern": {
              "fillmode": "overlay",
              "size": 10,
              "solidity": 0.2
             }
            },
            "type": "barpolar"
           }
          ],
          "carpet": [
           {
            "aaxis": {
             "endlinecolor": "#2a3f5f",
             "gridcolor": "white",
             "linecolor": "white",
             "minorgridcolor": "white",
             "startlinecolor": "#2a3f5f"
            },
            "baxis": {
             "endlinecolor": "#2a3f5f",
             "gridcolor": "white",
             "linecolor": "white",
             "minorgridcolor": "white",
             "startlinecolor": "#2a3f5f"
            },
            "type": "carpet"
           }
          ],
          "choropleth": [
           {
            "colorbar": {
             "outlinewidth": 0,
             "ticks": ""
            },
            "type": "choropleth"
           }
          ],
          "contour": [
           {
            "colorbar": {
             "outlinewidth": 0,
             "ticks": ""
            },
            "colorscale": [
             [
              0,
              "#0d0887"
             ],
             [
              0.1111111111111111,
              "#46039f"
             ],
             [
              0.2222222222222222,
              "#7201a8"
             ],
             [
              0.3333333333333333,
              "#9c179e"
             ],
             [
              0.4444444444444444,
              "#bd3786"
             ],
             [
              0.5555555555555556,
              "#d8576b"
             ],
             [
              0.6666666666666666,
              "#ed7953"
             ],
             [
              0.7777777777777778,
              "#fb9f3a"
             ],
             [
              0.8888888888888888,
              "#fdca26"
             ],
             [
              1,
              "#f0f921"
             ]
            ],
            "type": "contour"
           }
          ],
          "contourcarpet": [
           {
            "colorbar": {
             "outlinewidth": 0,
             "ticks": ""
            },
            "type": "contourcarpet"
           }
          ],
          "heatmap": [
           {
            "colorbar": {
             "outlinewidth": 0,
             "ticks": ""
            },
            "colorscale": [
             [
              0,
              "#0d0887"
             ],
             [
              0.1111111111111111,
              "#46039f"
             ],
             [
              0.2222222222222222,
              "#7201a8"
             ],
             [
              0.3333333333333333,
              "#9c179e"
             ],
             [
              0.4444444444444444,
              "#bd3786"
             ],
             [
              0.5555555555555556,
              "#d8576b"
             ],
             [
              0.6666666666666666,
              "#ed7953"
             ],
             [
              0.7777777777777778,
              "#fb9f3a"
             ],
             [
              0.8888888888888888,
              "#fdca26"
             ],
             [
              1,
              "#f0f921"
             ]
            ],
            "type": "heatmap"
           }
          ],
          "heatmapgl": [
           {
            "colorbar": {
             "outlinewidth": 0,
             "ticks": ""
            },
            "colorscale": [
             [
              0,
              "#0d0887"
             ],
             [
              0.1111111111111111,
              "#46039f"
             ],
             [
              0.2222222222222222,
              "#7201a8"
             ],
             [
              0.3333333333333333,
              "#9c179e"
             ],
             [
              0.4444444444444444,
              "#bd3786"
             ],
             [
              0.5555555555555556,
              "#d8576b"
             ],
             [
              0.6666666666666666,
              "#ed7953"
             ],
             [
              0.7777777777777778,
              "#fb9f3a"
             ],
             [
              0.8888888888888888,
              "#fdca26"
             ],
             [
              1,
              "#f0f921"
             ]
            ],
            "type": "heatmapgl"
           }
          ],
          "histogram": [
           {
            "marker": {
             "pattern": {
              "fillmode": "overlay",
              "size": 10,
              "solidity": 0.2
             }
            },
            "type": "histogram"
           }
          ],
          "histogram2d": [
           {
            "colorbar": {
             "outlinewidth": 0,
             "ticks": ""
            },
            "colorscale": [
             [
              0,
              "#0d0887"
             ],
             [
              0.1111111111111111,
              "#46039f"
             ],
             [
              0.2222222222222222,
              "#7201a8"
             ],
             [
              0.3333333333333333,
              "#9c179e"
             ],
             [
              0.4444444444444444,
              "#bd3786"
             ],
             [
              0.5555555555555556,
              "#d8576b"
             ],
             [
              0.6666666666666666,
              "#ed7953"
             ],
             [
              0.7777777777777778,
              "#fb9f3a"
             ],
             [
              0.8888888888888888,
              "#fdca26"
             ],
             [
              1,
              "#f0f921"
             ]
            ],
            "type": "histogram2d"
           }
          ],
          "histogram2dcontour": [
           {
            "colorbar": {
             "outlinewidth": 0,
             "ticks": ""
            },
            "colorscale": [
             [
              0,
              "#0d0887"
             ],
             [
              0.1111111111111111,
              "#46039f"
             ],
             [
              0.2222222222222222,
              "#7201a8"
             ],
             [
              0.3333333333333333,
              "#9c179e"
             ],
             [
              0.4444444444444444,
              "#bd3786"
             ],
             [
              0.5555555555555556,
              "#d8576b"
             ],
             [
              0.6666666666666666,
              "#ed7953"
             ],
             [
              0.7777777777777778,
              "#fb9f3a"
             ],
             [
              0.8888888888888888,
              "#fdca26"
             ],
             [
              1,
              "#f0f921"
             ]
            ],
            "type": "histogram2dcontour"
           }
          ],
          "mesh3d": [
           {
            "colorbar": {
             "outlinewidth": 0,
             "ticks": ""
            },
            "type": "mesh3d"
           }
          ],
          "parcoords": [
           {
            "line": {
             "colorbar": {
              "outlinewidth": 0,
              "ticks": ""
             }
            },
            "type": "parcoords"
           }
          ],
          "pie": [
           {
            "automargin": true,
            "type": "pie"
           }
          ],
          "scatter": [
           {
            "fillpattern": {
             "fillmode": "overlay",
             "size": 10,
             "solidity": 0.2
            },
            "type": "scatter"
           }
          ],
          "scatter3d": [
           {
            "line": {
             "colorbar": {
              "outlinewidth": 0,
              "ticks": ""
             }
            },
            "marker": {
             "colorbar": {
              "outlinewidth": 0,
              "ticks": ""
             }
            },
            "type": "scatter3d"
           }
          ],
          "scattercarpet": [
           {
            "marker": {
             "colorbar": {
              "outlinewidth": 0,
              "ticks": ""
             }
            },
            "type": "scattercarpet"
           }
          ],
          "scattergeo": [
           {
            "marker": {
             "colorbar": {
              "outlinewidth": 0,
              "ticks": ""
             }
            },
            "type": "scattergeo"
           }
          ],
          "scattergl": [
           {
            "marker": {
             "colorbar": {
              "outlinewidth": 0,
              "ticks": ""
             }
            },
            "type": "scattergl"
           }
          ],
          "scattermapbox": [
           {
            "marker": {
             "colorbar": {
              "outlinewidth": 0,
              "ticks": ""
             }
            },
            "type": "scattermapbox"
           }
          ],
          "scatterpolar": [
           {
            "marker": {
             "colorbar": {
              "outlinewidth": 0,
              "ticks": ""
             }
            },
            "type": "scatterpolar"
           }
          ],
          "scatterpolargl": [
           {
            "marker": {
             "colorbar": {
              "outlinewidth": 0,
              "ticks": ""
             }
            },
            "type": "scatterpolargl"
           }
          ],
          "scatterternary": [
           {
            "marker": {
             "colorbar": {
              "outlinewidth": 0,
              "ticks": ""
             }
            },
            "type": "scatterternary"
           }
          ],
          "surface": [
           {
            "colorbar": {
             "outlinewidth": 0,
             "ticks": ""
            },
            "colorscale": [
             [
              0,
              "#0d0887"
             ],
             [
              0.1111111111111111,
              "#46039f"
             ],
             [
              0.2222222222222222,
              "#7201a8"
             ],
             [
              0.3333333333333333,
              "#9c179e"
             ],
             [
              0.4444444444444444,
              "#bd3786"
             ],
             [
              0.5555555555555556,
              "#d8576b"
             ],
             [
              0.6666666666666666,
              "#ed7953"
             ],
             [
              0.7777777777777778,
              "#fb9f3a"
             ],
             [
              0.8888888888888888,
              "#fdca26"
             ],
             [
              1,
              "#f0f921"
             ]
            ],
            "type": "surface"
           }
          ],
          "table": [
           {
            "cells": {
             "fill": {
              "color": "#EBF0F8"
             },
             "line": {
              "color": "white"
             }
            },
            "header": {
             "fill": {
              "color": "#C8D4E3"
             },
             "line": {
              "color": "white"
             }
            },
            "type": "table"
           }
          ]
         },
         "layout": {
          "annotationdefaults": {
           "arrowcolor": "#2a3f5f",
           "arrowhead": 0,
           "arrowwidth": 1
          },
          "autotypenumbers": "strict",
          "coloraxis": {
           "colorbar": {
            "outlinewidth": 0,
            "ticks": ""
           }
          },
          "colorscale": {
           "diverging": [
            [
             0,
             "#8e0152"
            ],
            [
             0.1,
             "#c51b7d"
            ],
            [
             0.2,
             "#de77ae"
            ],
            [
             0.3,
             "#f1b6da"
            ],
            [
             0.4,
             "#fde0ef"
            ],
            [
             0.5,
             "#f7f7f7"
            ],
            [
             0.6,
             "#e6f5d0"
            ],
            [
             0.7,
             "#b8e186"
            ],
            [
             0.8,
             "#7fbc41"
            ],
            [
             0.9,
             "#4d9221"
            ],
            [
             1,
             "#276419"
            ]
           ],
           "sequential": [
            [
             0,
             "#0d0887"
            ],
            [
             0.1111111111111111,
             "#46039f"
            ],
            [
             0.2222222222222222,
             "#7201a8"
            ],
            [
             0.3333333333333333,
             "#9c179e"
            ],
            [
             0.4444444444444444,
             "#bd3786"
            ],
            [
             0.5555555555555556,
             "#d8576b"
            ],
            [
             0.6666666666666666,
             "#ed7953"
            ],
            [
             0.7777777777777778,
             "#fb9f3a"
            ],
            [
             0.8888888888888888,
             "#fdca26"
            ],
            [
             1,
             "#f0f921"
            ]
           ],
           "sequentialminus": [
            [
             0,
             "#0d0887"
            ],
            [
             0.1111111111111111,
             "#46039f"
            ],
            [
             0.2222222222222222,
             "#7201a8"
            ],
            [
             0.3333333333333333,
             "#9c179e"
            ],
            [
             0.4444444444444444,
             "#bd3786"
            ],
            [
             0.5555555555555556,
             "#d8576b"
            ],
            [
             0.6666666666666666,
             "#ed7953"
            ],
            [
             0.7777777777777778,
             "#fb9f3a"
            ],
            [
             0.8888888888888888,
             "#fdca26"
            ],
            [
             1,
             "#f0f921"
            ]
           ]
          },
          "colorway": [
           "#636efa",
           "#EF553B",
           "#00cc96",
           "#ab63fa",
           "#FFA15A",
           "#19d3f3",
           "#FF6692",
           "#B6E880",
           "#FF97FF",
           "#FECB52"
          ],
          "font": {
           "color": "#2a3f5f"
          },
          "geo": {
           "bgcolor": "white",
           "lakecolor": "white",
           "landcolor": "#E5ECF6",
           "showlakes": true,
           "showland": true,
           "subunitcolor": "white"
          },
          "hoverlabel": {
           "align": "left"
          },
          "hovermode": "closest",
          "mapbox": {
           "style": "light"
          },
          "paper_bgcolor": "white",
          "plot_bgcolor": "#E5ECF6",
          "polar": {
           "angularaxis": {
            "gridcolor": "white",
            "linecolor": "white",
            "ticks": ""
           },
           "bgcolor": "#E5ECF6",
           "radialaxis": {
            "gridcolor": "white",
            "linecolor": "white",
            "ticks": ""
           }
          },
          "scene": {
           "xaxis": {
            "backgroundcolor": "#E5ECF6",
            "gridcolor": "white",
            "gridwidth": 2,
            "linecolor": "white",
            "showbackground": true,
            "ticks": "",
            "zerolinecolor": "white"
           },
           "yaxis": {
            "backgroundcolor": "#E5ECF6",
            "gridcolor": "white",
            "gridwidth": 2,
            "linecolor": "white",
            "showbackground": true,
            "ticks": "",
            "zerolinecolor": "white"
           },
           "zaxis": {
            "backgroundcolor": "#E5ECF6",
            "gridcolor": "white",
            "gridwidth": 2,
            "linecolor": "white",
            "showbackground": true,
            "ticks": "",
            "zerolinecolor": "white"
           }
          },
          "shapedefaults": {
           "line": {
            "color": "#2a3f5f"
           }
          },
          "ternary": {
           "aaxis": {
            "gridcolor": "white",
            "linecolor": "white",
            "ticks": ""
           },
           "baxis": {
            "gridcolor": "white",
            "linecolor": "white",
            "ticks": ""
           },
           "bgcolor": "#E5ECF6",
           "caxis": {
            "gridcolor": "white",
            "linecolor": "white",
            "ticks": ""
           }
          },
          "title": {
           "x": 0.05
          },
          "xaxis": {
           "automargin": true,
           "gridcolor": "white",
           "linecolor": "white",
           "ticks": "",
           "title": {
            "standoff": 15
           },
           "zerolinecolor": "white",
           "zerolinewidth": 2
          },
          "yaxis": {
           "automargin": true,
           "gridcolor": "white",
           "linecolor": "white",
           "ticks": "",
           "title": {
            "standoff": 15
           },
           "zerolinecolor": "white",
           "zerolinewidth": 2
          }
         }
        },
        "title": {
         "text": "Movies and Their no of Parts"
        },
        "xaxis": {
         "autorange": true,
         "range": [
          -0.5,
          29.5
         ],
         "type": "category"
        },
        "yaxis": {
         "autorange": true,
         "range": [
          0,
          9.473684210526315
         ],
         "type": "linear"
        }
       }
      },
      "image/png": "[encoded data removed]",
      "text/html": [
       "<div>                            <div id=\"4f9351f2-2681-43a8-89d6-742494a1ac8f\" class=\"plotly-graph-div\" style=\"height:525px; width:100%;\"></div>            <script type=\"text/javascript\">                require([\"plotly\"], function(Plotly) {                    window.PLOTLYENV=window.PLOTLYENV || {};                                    if (document.getElementById(\"4f9351f2-2681-43a8-89d6-742494a1ac8f\")) {                    Plotly.newPlot(                        \"4f9351f2-2681-43a8-89d6-742494a1ac8f\",                        [{\"marker\":{\"color\":\"blue\"},\"x\":[\"Return\",\"Pinocchio\",\"Alice in Wonderland\",\"The Mummy\",\"Black Christmas\",\"Get Carter\",\"The Thing\",\"The Little Mermaid\",\"Shut In\",\"Carrie\",\"Les Mis\\u00e9rables\",\"The Jungle Book\",\"Great Expectations\",\"Cinderella\",\"Prey\",\"Halloween\",\"Robin Hood\",\"Inferno\",\"Life\",\"Shaft\",\"Day of the Dead\",\"Lights Out\",\"The Italian Job\",\"Ocean's Eleven\",\"The Wicker Man\",\"Those People\",\"...pi\\u00f9 forte ragazzi!\",\"Mean Girls\",\"Brigsby Bear\",\"The Omen\"],\"y\":[9,4,4,3,3,3,3,3,3,3,3,3,3,3,3,3,3,3,3,3,2,2,2,2,2,2,2,2,2,2],\"type\":\"bar\"}],                        {\"title\":{\"text\":\"Movies and Their no of Parts\"},\"template\":{\"data\":{\"histogram2dcontour\":[{\"type\":\"histogram2dcontour\",\"colorbar\":{\"outlinewidth\":0,\"ticks\":\"\"},\"colorscale\":[[0.0,\"#0d0887\"],[0.1111111111111111,\"#46039f\"],[0.2222222222222222,\"#7201a8\"],[0.3333333333333333,\"#9c179e\"],[0.4444444444444444,\"#bd3786\"],[0.5555555555555556,\"#d8576b\"],[0.6666666666666666,\"#ed7953\"],[0.7777777777777778,\"#fb9f3a\"],[0.8888888888888888,\"#fdca26\"],[1.0,\"#f0f921\"]]}],\"choropleth\":[{\"type\":\"choropleth\",\"colorbar\":{\"outlinewidth\":0,\"ticks\":\"\"}}],\"histogram2d\":[{\"type\":\"histogram2d\",\"colorbar\":{\"outlinewidth\":0,\"ticks\":\"\"},\"colorscale\":[[0.0,\"#0d0887\"],[0.1111111111111111,\"#46039f\"],[0.2222222222222222,\"#7201a8\"],[0.3333333333333333,\"#9c179e\"],[0.4444444444444444,\"#bd3786\"],[0.5555555555555556,\"#d8576b\"],[0.6666666666666666,\"#ed7953\"],[0.7777777777777778,\"#fb9f3a\"],[0.8888888888888888,\"#fdca26\"],[1.0,\"#f0f921\"]]}],\"heatmap\":[{\"type\":\"heatmap\",\"colorbar\":{\"outlinewidth\":0,\"ticks\":\"\"},\"colorscale\":[[0.0,\"#0d0887\"],[0.1111111111111111,\"#46039f\"],[0.2222222222222222,\"#7201a8\"],[0.3333333333333333,\"#9c179e\"],[0.4444444444444444,\"#bd3786\"],[0.5555555555555556,\"#d8576b\"],[0.6666666666666666,\"#ed7953\"],[0.7777777777777778,\"#fb9f3a\"],[0.8888888888888888,\"#fdca26\"],[1.0,\"#f0f921\"]]}],\"heatmapgl\":[{\"type\":\"heatmapgl\",\"colorbar\":{\"outlinewidth\":0,\"ticks\":\"\"},\"colorscale\":[[0.0,\"#0d0887\"],[0.1111111111111111,\"#46039f\"],[0.2222222222222222,\"#7201a8\"],[0.3333333333333333,\"#9c179e\"],[0.4444444444444444,\"#bd3786\"],[0.5555555555555556,\"#d8576b\"],[0.6666666666666666,\"#ed7953\"],[0.7777777777777778,\"#fb9f3a\"],[0.8888888888888888,\"#fdca26\"],[1.0,\"#f0f921\"]]}],\"contourcarpet\":[{\"type\":\"contourcarpet\",\"colorbar\":{\"outlinewidth\":0,\"ticks\":\"\"}}],\"contour\":[{\"type\":\"contour\",\"colorbar\":{\"outlinewidth\":0,\"ticks\":\"\"},\"colorscale\":[[0.0,\"#0d0887\"],[0.1111111111111111,\"#46039f\"],[0.2222222222222222,\"#7201a8\"],[0.3333333333333333,\"#9c179e\"],[0.4444444444444444,\"#bd3786\"],[0.5555555555555556,\"#d8576b\"],[0.6666666666666666,\"#ed7953\"],[0.7777777777777778,\"#fb9f3a\"],[0.8888888888888888,\"#fdca26\"],[1.0,\"#f0f921\"]]}],\"surface\":[{\"type\":\"surface\",\"colorbar\":{\"outlinewidth\":0,\"ticks\":\"\"},\"colorscale\":[[0.0,\"#0d0887\"],[0.1111111111111111,\"#46039f\"],[0.2222222222222222,\"#7201a8\"],[0.3333333333333333,\"#9c179e\"],[0.4444444444444444,\"#bd3786\"],[0.5555555555555556,\"#d8576b\"],[0.6666666666666666,\"#ed7953\"],[0.7777777777777778,\"#fb9f3a\"],[0.8888888888888888,\"#fdca26\"],[1.0,\"#f0f921\"]]}],\"mesh3d\":[{\"type\":\"mesh3d\",\"colorbar\":{\"outlinewidth\":0,\"ticks\":\"\"}}],\"scatter\":[{\"fillpattern\":{\"fillmode\":\"overlay\",\"size\":10,\"solidity\":0.2},\"type\":\"scatter\"}],\"parcoords\":[{\"type\":\"parcoords\",\"line\":{\"colorbar\":{\"outlinewidth\":0,\"ticks\":\"\"}}}],\"scatterpolargl\":[{\"type\":\"scatterpolargl\",\"marker\":{\"colorbar\":{\"outlinewidth\":0,\"ticks\":\"\"}}}],\"bar\":[{\"error_x\":{\"color\":\"#2a3f5f\"},\"error_y\":{\"color\":\"#2a3f5f\"},\"marker\":{\"line\":{\"color\":\"#E5ECF6\",\"width\":0.5},\"pattern\":{\"fillmode\":\"overlay\",\"size\":10,\"solidity\":0.2}},\"type\":\"bar\"}],\"scattergeo\":[{\"type\":\"scattergeo\",\"marker\":{\"colorbar\":{\"outlinewidth\":0,\"ticks\":\"\"}}}],\"scatterpolar\":[{\"type\":\"scatterpolar\",\"marker\":{\"colorbar\":{\"outlinewidth\":0,\"ticks\":\"\"}}}],\"histogram\":[{\"marker\":{\"pattern\":{\"fillmode\":\"overlay\",\"size\":10,\"solidity\":0.2}},\"type\":\"histogram\"}],\"scattergl\":[{\"type\":\"scattergl\",\"marker\":{\"colorbar\":{\"outlinewidth\":0,\"ticks\":\"\"}}}],\"scatter3d\":[{\"type\":\"scatter3d\",\"line\":{\"colorbar\":{\"outlinewidth\":0,\"ticks\":\"\"}},\"marker\":{\"colorbar\":{\"outlinewidth\":0,\"ticks\":\"\"}}}],\"scattermapbox\":[{\"type\":\"scattermapbox\",\"marker\":{\"colorbar\":{\"outlinewidth\":0,\"ticks\":\"\"}}}],\"scatterternary\":[{\"type\":\"scatterternary\",\"marker\":{\"colorbar\":{\"outlinewidth\":0,\"ticks\":\"\"}}}],\"scattercarpet\":[{\"type\":\"scattercarpet\",\"marker\":{\"colorbar\":{\"outlinewidth\":0,\"ticks\":\"\"}}}],\"carpet\":[{\"aaxis\":{\"endlinecolor\":\"#2a3f5f\",\"gridcolor\":\"white\",\"linecolor\":\"white\",\"minorgridcolor\":\"white\",\"startlinecolor\":\"#2a3f5f\"},\"baxis\":{\"endlinecolor\":\"#2a3f5f\",\"gridcolor\":\"white\",\"linecolor\":\"white\",\"minorgridcolor\":\"white\",\"startlinecolor\":\"#2a3f5f\"},\"type\":\"carpet\"}],\"table\":[{\"cells\":{\"fill\":{\"color\":\"#EBF0F8\"},\"line\":{\"color\":\"white\"}},\"header\":{\"fill\":{\"color\":\"#C8D4E3\"},\"line\":{\"color\":\"white\"}},\"type\":\"table\"}],\"barpolar\":[{\"marker\":{\"line\":{\"color\":\"#E5ECF6\",\"width\":0.5},\"pattern\":{\"fillmode\":\"overlay\",\"size\":10,\"solidity\":0.2}},\"type\":\"barpolar\"}],\"pie\":[{\"automargin\":true,\"type\":\"pie\"}]},\"layout\":{\"autotypenumbers\":\"strict\",\"colorway\":[\"#636efa\",\"#EF553B\",\"#00cc96\",\"#ab63fa\",\"#FFA15A\",\"#19d3f3\",\"#FF6692\",\"#B6E880\",\"#FF97FF\",\"#FECB52\"],\"font\":{\"color\":\"#2a3f5f\"},\"hovermode\":\"closest\",\"hoverlabel\":{\"align\":\"left\"},\"paper_bgcolor\":\"white\",\"plot_bgcolor\":\"#E5ECF6\",\"polar\":{\"bgcolor\":\"#E5ECF6\",\"angularaxis\":{\"gridcolor\":\"white\",\"linecolor\":\"white\",\"ticks\":\"\"},\"radialaxis\":{\"gridcolor\":\"white\",\"linecolor\":\"white\",\"ticks\":\"\"}},\"ternary\":{\"bgcolor\":\"#E5ECF6\",\"aaxis\":{\"gridcolor\":\"white\",\"linecolor\":\"white\",\"ticks\":\"\"},\"baxis\":{\"gridcolor\":\"white\",\"linecolor\":\"white\",\"ticks\":\"\"},\"caxis\":{\"gridcolor\":\"white\",\"linecolor\":\"white\",\"ticks\":\"\"}},\"coloraxis\":{\"colorbar\":{\"outlinewidth\":0,\"ticks\":\"\"}},\"colorscale\":{\"sequential\":[[0.0,\"#0d0887\"],[0.1111111111111111,\"#46039f\"],[0.2222222222222222,\"#7201a8\"],[0.3333333333333333,\"#9c179e\"],[0.4444444444444444,\"#bd3786\"],[0.5555555555555556,\"#d8576b\"],[0.6666666666666666,\"#ed7953\"],[0.7777777777777778,\"#fb9f3a\"],[0.8888888888888888,\"#fdca26\"],[1.0,\"#f0f921\"]],\"sequentialminus\":[[0.0,\"#0d0887\"],[0.1111111111111111,\"#46039f\"],[0.2222222222222222,\"#7201a8\"],[0.3333333333333333,\"#9c179e\"],[0.4444444444444444,\"#bd3786\"],[0.5555555555555556,\"#d8576b\"],[0.6666666666666666,\"#ed7953\"],[0.7777777777777778,\"#fb9f3a\"],[0.8888888888888888,\"#fdca26\"],[1.0,\"#f0f921\"]],\"diverging\":[[0,\"#8e0152\"],[0.1,\"#c51b7d\"],[0.2,\"#de77ae\"],[0.3,\"#f1b6da\"],[0.4,\"#fde0ef\"],[0.5,\"#f7f7f7\"],[0.6,\"#e6f5d0\"],[0.7,\"#b8e186\"],[0.8,\"#7fbc41\"],[0.9,\"#4d9221\"],[1,\"#276419\"]]},\"xaxis\":{\"gridcolor\":\"white\",\"linecolor\":\"white\",\"ticks\":\"\",\"title\":{\"standoff\":15},\"zerolinecolor\":\"white\",\"automargin\":true,\"zerolinewidth\":2},\"yaxis\":{\"gridcolor\":\"white\",\"linecolor\":\"white\",\"ticks\":\"\",\"title\":{\"standoff\":15},\"zerolinecolor\":\"white\",\"automargin\":true,\"zerolinewidth\":2},\"scene\":{\"xaxis\":{\"backgroundcolor\":\"#E5ECF6\",\"gridcolor\":\"white\",\"linecolor\":\"white\",\"showbackground\":true,\"ticks\":\"\",\"zerolinecolor\":\"white\",\"gridwidth\":2},\"yaxis\":{\"backgroundcolor\":\"#E5ECF6\",\"gridcolor\":\"white\",\"linecolor\":\"white\",\"showbackground\":true,\"ticks\":\"\",\"zerolinecolor\":\"white\",\"gridwidth\":2},\"zaxis\":{\"backgroundcolor\":\"#E5ECF6\",\"gridcolor\":\"white\",\"linecolor\":\"white\",\"showbackground\":true,\"ticks\":\"\",\"zerolinecolor\":\"white\",\"gridwidth\":2}},\"shapedefaults\":{\"line\":{\"color\":\"#2a3f5f\"}},\"annotationdefaults\":{\"arrowcolor\":\"#2a3f5f\",\"arrowhead\":0,\"arrowwidth\":1},\"geo\":{\"bgcolor\":\"white\",\"landcolor\":\"#E5ECF6\",\"subunitcolor\":\"white\",\"showland\":true,\"showlakes\":true,\"lakecolor\":\"white\"},\"title\":{\"x\":0.05},\"mapbox\":{\"style\":\"light\"}}}},                        {\"responsive\": true}                    ).then(function(){\n",
       "                            \n",
       "var gd = document.getElementById('4f9351f2-2681-43a8-89d6-742494a1ac8f');\n",
       "var x = new MutationObserver(function (mutations, observer) {{\n",
       "        var display = window.getComputedStyle(gd).display;\n",
       "        if (!display || display === 'none') {{\n",
       "            console.log([gd, 'removed!']);\n",
       "            Plotly.purge(gd);\n",
       "            observer.disconnect();\n",
       "        }}\n",
       "}});\n",
       "\n",
       "// Listen for the removal of the full notebook cells\n",
       "var notebookContainer = gd.closest('#notebook-container');\n",
       "if (notebookContainer) {{\n",
       "    x.observe(notebookContainer, {childList: true});\n",
       "}}\n",
       "\n",
       "// Listen for the clearing of the current output cell\n",
       "var outputEl = gd.closest('.output');\n",
       "if (outputEl) {{\n",
       "    x.observe(outputEl, {childList: true});\n",
       "}}\n",
       "\n",
       "                        })                };                });            </script>        </div>"
      ]
     },
     "metadata": {},
     "output_type": "display_data"
    }
   ],
   "source": [
    "trace=go.Bar(x=parts['original_title'],y=parts['count'],marker=dict(color='blue'))\n",
    "data = [trace]\n",
    "layout = go.Layout(title='Movies and Their no of Parts')\n",
    "fig = go.Figure(data=data, layout=layout)\n",
    "\n",
    "fig.show()"
   ]
  },
  {
   "cell_type": "code",
   "execution_count": 84,
   "id": "bb9168fc-1a0d-47f1-9f5e-3739b751f94a",
   "metadata": {},
   "outputs": [
    {
     "data": {
      "text/html": [
       "<div>\n",
       "<style scoped>\n",
       "    .dataframe tbody tr th:only-of-type {\n",
       "        vertical-align: middle;\n",
       "    }\n",
       "\n",
       "    .dataframe tbody tr th {\n",
       "        vertical-align: top;\n",
       "    }\n",
       "\n",
       "    .dataframe thead th {\n",
       "        text-align: right;\n",
       "    }\n",
       "</style>\n",
       "<table border=\"1\" class=\"dataframe\">\n",
       "  <thead>\n",
       "    <tr style=\"text-align: right;\">\n",
       "      <th></th>\n",
       "      <th>Unnamed: 0</th>\n",
       "      <th>id</th>\n",
       "      <th>original_title</th>\n",
       "      <th>popularity</th>\n",
       "      <th>release_date</th>\n",
       "      <th>vote_average</th>\n",
       "      <th>vote_count</th>\n",
       "      <th>overview</th>\n",
       "    </tr>\n",
       "  </thead>\n",
       "  <tbody>\n",
       "    <tr>\n",
       "      <th>3537</th>\n",
       "      <td>3537</td>\n",
       "      <td>564</td>\n",
       "      <td>The Mummy</td>\n",
       "      <td>137.897</td>\n",
       "      <td>1999-04-16</td>\n",
       "      <td>6.931</td>\n",
       "      <td>8877</td>\n",
       "      <td>Dashing legionnaire Rick O'Connell stumbles up...</td>\n",
       "    </tr>\n",
       "    <tr>\n",
       "      <th>4252</th>\n",
       "      <td>4252</td>\n",
       "      <td>15849</td>\n",
       "      <td>The Mummy</td>\n",
       "      <td>15.875</td>\n",
       "      <td>1932-12-22</td>\n",
       "      <td>6.771</td>\n",
       "      <td>595</td>\n",
       "      <td>An ancient Egyptian priest named Imhotep is re...</td>\n",
       "    </tr>\n",
       "    <tr>\n",
       "      <th>8838</th>\n",
       "      <td>8838</td>\n",
       "      <td>282035</td>\n",
       "      <td>The Mummy</td>\n",
       "      <td>57.149</td>\n",
       "      <td>2017-06-06</td>\n",
       "      <td>5.510</td>\n",
       "      <td>7068</td>\n",
       "      <td>Though safely entombed in a crypt deep beneath...</td>\n",
       "    </tr>\n",
       "  </tbody>\n",
       "</table>\n",
       "</div>"
      ],
      "text/plain": [
       "      Unnamed: 0      id original_title  popularity release_date  \\\n",
       "3537        3537     564      The Mummy     137.897   1999-04-16   \n",
       "4252        4252   15849      The Mummy      15.875   1932-12-22   \n",
       "8838        8838  282035      The Mummy      57.149   2017-06-06   \n",
       "\n",
       "      vote_average  vote_count  \\\n",
       "3537         6.931        8877   \n",
       "4252         6.771         595   \n",
       "8838         5.510        7068   \n",
       "\n",
       "                                               overview  \n",
       "3537  Dashing legionnaire Rick O'Connell stumbles up...  \n",
       "4252  An ancient Egyptian priest named Imhotep is re...  \n",
       "8838  Though safely entombed in a crypt deep beneath...  "
      ]
     },
     "execution_count": 84,
     "metadata": {},
     "output_type": "execute_result"
    }
   ],
   "source": [
    "movies[movies['original_title']=='The Mummy']"
   ]
  },
  {
   "cell_type": "code",
   "execution_count": 129,
   "id": "bc3201e0-d20c-4a53-b32d-dab817ea1109",
   "metadata": {},
   "outputs": [
    {
     "data": {
      "text/html": [
       "<div>\n",
       "<style scoped>\n",
       "    .dataframe tbody tr th:only-of-type {\n",
       "        vertical-align: middle;\n",
       "    }\n",
       "\n",
       "    .dataframe tbody tr th {\n",
       "        vertical-align: top;\n",
       "    }\n",
       "\n",
       "    .dataframe thead th {\n",
       "        text-align: right;\n",
       "    }\n",
       "</style>\n",
       "<table border=\"1\" class=\"dataframe\">\n",
       "  <thead>\n",
       "    <tr style=\"text-align: right;\">\n",
       "      <th></th>\n",
       "      <th>index</th>\n",
       "      <th>original_title</th>\n",
       "      <th>vote_average</th>\n",
       "    </tr>\n",
       "  </thead>\n",
       "  <tbody>\n",
       "    <tr>\n",
       "      <th>0</th>\n",
       "      <td>0</td>\n",
       "      <td>The Shawshank Redemption</td>\n",
       "      <td>8.706</td>\n",
       "    </tr>\n",
       "    <tr>\n",
       "      <th>1</th>\n",
       "      <td>1</td>\n",
       "      <td>The Godfather</td>\n",
       "      <td>8.700</td>\n",
       "    </tr>\n",
       "    <tr>\n",
       "      <th>2</th>\n",
       "      <td>2</td>\n",
       "      <td>The Godfather Part II</td>\n",
       "      <td>8.600</td>\n",
       "    </tr>\n",
       "    <tr>\n",
       "      <th>3</th>\n",
       "      <td>3</td>\n",
       "      <td>Schindler's List</td>\n",
       "      <td>8.565</td>\n",
       "    </tr>\n",
       "    <tr>\n",
       "      <th>4</th>\n",
       "      <td>4</td>\n",
       "      <td>12 Angry Men</td>\n",
       "      <td>8.543</td>\n",
       "    </tr>\n",
       "    <tr>\n",
       "      <th>5</th>\n",
       "      <td>7</td>\n",
       "      <td>The Dark Knight</td>\n",
       "      <td>8.516</td>\n",
       "    </tr>\n",
       "    <tr>\n",
       "      <th>6</th>\n",
       "      <td>8</td>\n",
       "      <td>기생충</td>\n",
       "      <td>8.507</td>\n",
       "    </tr>\n",
       "    <tr>\n",
       "      <th>7</th>\n",
       "      <td>9</td>\n",
       "      <td>The Green Mile</td>\n",
       "      <td>8.506</td>\n",
       "    </tr>\n",
       "    <tr>\n",
       "      <th>8</th>\n",
       "      <td>6</td>\n",
       "      <td>दिलवाले दुल्हनिया ले जायेंगे</td>\n",
       "      <td>8.500</td>\n",
       "    </tr>\n",
       "    <tr>\n",
       "      <th>9</th>\n",
       "      <td>5</td>\n",
       "      <td>千と千尋の神隠し</td>\n",
       "      <td>8.500</td>\n",
       "    </tr>\n",
       "    <tr>\n",
       "      <th>10</th>\n",
       "      <td>17</td>\n",
       "      <td>Cosas imposibles</td>\n",
       "      <td>8.500</td>\n",
       "    </tr>\n",
       "    <tr>\n",
       "      <th>11</th>\n",
       "      <td>15</td>\n",
       "      <td>GoodFellas</td>\n",
       "      <td>8.500</td>\n",
       "    </tr>\n",
       "    <tr>\n",
       "      <th>12</th>\n",
       "      <td>10</td>\n",
       "      <td>君の名は。</td>\n",
       "      <td>8.488</td>\n",
       "    </tr>\n",
       "    <tr>\n",
       "      <th>13</th>\n",
       "      <td>11</td>\n",
       "      <td>Pulp Fiction</td>\n",
       "      <td>8.487</td>\n",
       "    </tr>\n",
       "    <tr>\n",
       "      <th>14</th>\n",
       "      <td>12</td>\n",
       "      <td>The Lord of the Rings: The Return of the King</td>\n",
       "      <td>8.481</td>\n",
       "    </tr>\n",
       "    <tr>\n",
       "      <th>15</th>\n",
       "      <td>13</td>\n",
       "      <td>Forrest Gump</td>\n",
       "      <td>8.474</td>\n",
       "    </tr>\n",
       "    <tr>\n",
       "      <th>16</th>\n",
       "      <td>14</td>\n",
       "      <td>Il buono, il brutto, il cattivo</td>\n",
       "      <td>8.465</td>\n",
       "    </tr>\n",
       "    <tr>\n",
       "      <th>17</th>\n",
       "      <td>16</td>\n",
       "      <td>七人の侍</td>\n",
       "      <td>8.462</td>\n",
       "    </tr>\n",
       "    <tr>\n",
       "      <th>18</th>\n",
       "      <td>18</td>\n",
       "      <td>火垂るの墓</td>\n",
       "      <td>8.458</td>\n",
       "    </tr>\n",
       "    <tr>\n",
       "      <th>19</th>\n",
       "      <td>19</td>\n",
       "      <td>La vita è bella</td>\n",
       "      <td>8.451</td>\n",
       "    </tr>\n",
       "  </tbody>\n",
       "</table>\n",
       "</div>"
      ],
      "text/plain": [
       "    index                                 original_title  vote_average\n",
       "0       0                       The Shawshank Redemption         8.706\n",
       "1       1                                  The Godfather         8.700\n",
       "2       2                          The Godfather Part II         8.600\n",
       "3       3                               Schindler's List         8.565\n",
       "4       4                                   12 Angry Men         8.543\n",
       "5       7                                The Dark Knight         8.516\n",
       "6       8                                            기생충         8.507\n",
       "7       9                                 The Green Mile         8.506\n",
       "8       6                   दिलवाले दुल्हनिया ले जायेंगे         8.500\n",
       "9       5                                       千と千尋の神隠し         8.500\n",
       "10     17                               Cosas imposibles         8.500\n",
       "11     15                                     GoodFellas         8.500\n",
       "12     10                                          君の名は。         8.488\n",
       "13     11                                   Pulp Fiction         8.487\n",
       "14     12  The Lord of the Rings: The Return of the King         8.481\n",
       "15     13                                   Forrest Gump         8.474\n",
       "16     14                Il buono, il brutto, il cattivo         8.465\n",
       "17     16                                           七人の侍         8.462\n",
       "18     18                                          火垂るの墓         8.458\n",
       "19     19                                La vita è bella         8.451"
      ]
     },
     "execution_count": 129,
     "metadata": {},
     "output_type": "execute_result"
    }
   ],
   "source": [
    "top=movies[movies['vote_average'] > 7][['original_title','vote_average']].sort_values(by='vote_average',ascending=False).reset_index().head(20)\n",
    "top"
   ]
  },
  {
   "cell_type": "code",
   "execution_count": 131,
   "id": "38b82313-f48f-470e-8f59-5fd0f2ca5aed",
   "metadata": {},
   "outputs": [
    {
     "data": {
      "application/vnd.plotly.v1+json": {
       "config": {
        "plotlyServerURL": "https://plot.ly"
       },
       "data": [
        {
         "marker": {
          "color": "blue"
         },
         "type": "bar",
         "x": [
          "The Shawshank Redemption",
          "The Godfather",
          "The Godfather Part II",
          "Schindler's List",
          "12 Angry Men",
          "The Dark Knight",
          "기생충",
          "The Green Mile",
          "दिलवाले दुल्हनिया ले जायेंगे",
          "千と千尋の神隠し",
          "Cosas imposibles",
          "GoodFellas",
          "君の名は。",
          "Pulp Fiction",
          "The Lord of the Rings: The Return of the King",
          "Forrest Gump",
          "Il buono, il brutto, il cattivo",
          "七人の侍",
          "火垂るの墓",
          "La vita è bella"
         ],
         "y": [
          8.706,
          8.7,
          8.6,
          8.565,
          8.543,
          8.516,
          8.507,
          8.506,
          8.5,
          8.5,
          8.5,
          8.5,
          8.488,
          8.487,
          8.481,
          8.474,
          8.465,
          8.462,
          8.458,
          8.451
         ]
        }
       ],
       "layout": {
        "autosize": true,
        "template": {
         "data": {
          "bar": [
           {
            "error_x": {
             "color": "#2a3f5f"
            },
            "error_y": {
             "color": "#2a3f5f"
            },
            "marker": {
             "line": {
              "color": "#E5ECF6",
              "width": 0.5
             },
             "pattern": {
              "fillmode": "overlay",
              "size": 10,
              "solidity": 0.2
             }
            },
            "type": "bar"
           }
          ],
          "barpolar": [
           {
            "marker": {
             "line": {
              "color": "#E5ECF6",
              "width": 0.5
             },
             "pattern": {
              "fillmode": "overlay",
              "size": 10,
              "solidity": 0.2
             }
            },
            "type": "barpolar"
           }
          ],
          "carpet": [
           {
            "aaxis": {
             "endlinecolor": "#2a3f5f",
             "gridcolor": "white",
             "linecolor": "white",
             "minorgridcolor": "white",
             "startlinecolor": "#2a3f5f"
            },
            "baxis": {
             "endlinecolor": "#2a3f5f",
             "gridcolor": "white",
             "linecolor": "white",
             "minorgridcolor": "white",
             "startlinecolor": "#2a3f5f"
            },
            "type": "carpet"
           }
          ],
          "choropleth": [
           {
            "colorbar": {
             "outlinewidth": 0,
             "ticks": ""
            },
            "type": "choropleth"
           }
          ],
          "contour": [
           {
            "colorbar": {
             "outlinewidth": 0,
             "ticks": ""
            },
            "colorscale": [
             [
              0,
              "#0d0887"
             ],
             [
              0.1111111111111111,
              "#46039f"
             ],
             [
              0.2222222222222222,
              "#7201a8"
             ],
             [
              0.3333333333333333,
              "#9c179e"
             ],
             [
              0.4444444444444444,
              "#bd3786"
             ],
             [
              0.5555555555555556,
              "#d8576b"
             ],
             [
              0.6666666666666666,
              "#ed7953"
             ],
             [
              0.7777777777777778,
              "#fb9f3a"
             ],
             [
              0.8888888888888888,
              "#fdca26"
             ],
             [
              1,
              "#f0f921"
             ]
            ],
            "type": "contour"
           }
          ],
          "contourcarpet": [
           {
            "colorbar": {
             "outlinewidth": 0,
             "ticks": ""
            },
            "type": "contourcarpet"
           }
          ],
          "heatmap": [
           {
            "colorbar": {
             "outlinewidth": 0,
             "ticks": ""
            },
            "colorscale": [
             [
              0,
              "#0d0887"
             ],
             [
              0.1111111111111111,
              "#46039f"
             ],
             [
              0.2222222222222222,
              "#7201a8"
             ],
             [
              0.3333333333333333,
              "#9c179e"
             ],
             [
              0.4444444444444444,
              "#bd3786"
             ],
             [
              0.5555555555555556,
              "#d8576b"
             ],
             [
              0.6666666666666666,
              "#ed7953"
             ],
             [
              0.7777777777777778,
              "#fb9f3a"
             ],
             [
              0.8888888888888888,
              "#fdca26"
             ],
             [
              1,
              "#f0f921"
             ]
            ],
            "type": "heatmap"
           }
          ],
          "heatmapgl": [
           {
            "colorbar": {
             "outlinewidth": 0,
             "ticks": ""
            },
            "colorscale": [
             [
              0,
              "#0d0887"
             ],
             [
              0.1111111111111111,
              "#46039f"
             ],
             [
              0.2222222222222222,
              "#7201a8"
             ],
             [
              0.3333333333333333,
              "#9c179e"
             ],
             [
              0.4444444444444444,
              "#bd3786"
             ],
             [
              0.5555555555555556,
              "#d8576b"
             ],
             [
              0.6666666666666666,
              "#ed7953"
             ],
             [
              0.7777777777777778,
              "#fb9f3a"
             ],
             [
              0.8888888888888888,
              "#fdca26"
             ],
             [
              1,
              "#f0f921"
             ]
            ],
            "type": "heatmapgl"
           }
          ],
          "histogram": [
           {
            "marker": {
             "pattern": {
              "fillmode": "overlay",
              "size": 10,
              "solidity": 0.2
             }
            },
            "type": "histogram"
           }
          ],
          "histogram2d": [
           {
            "colorbar": {
             "outlinewidth": 0,
             "ticks": ""
            },
            "colorscale": [
             [
              0,
              "#0d0887"
             ],
             [
              0.1111111111111111,
              "#46039f"
             ],
             [
              0.2222222222222222,
              "#7201a8"
             ],
             [
              0.3333333333333333,
              "#9c179e"
             ],
             [
              0.4444444444444444,
              "#bd3786"
             ],
             [
              0.5555555555555556,
              "#d8576b"
             ],
             [
              0.6666666666666666,
              "#ed7953"
             ],
             [
              0.7777777777777778,
              "#fb9f3a"
             ],
             [
              0.8888888888888888,
              "#fdca26"
             ],
             [
              1,
              "#f0f921"
             ]
            ],
            "type": "histogram2d"
           }
          ],
          "histogram2dcontour": [
           {
            "colorbar": {
             "outlinewidth": 0,
             "ticks": ""
            },
            "colorscale": [
             [
              0,
              "#0d0887"
             ],
             [
              0.1111111111111111,
              "#46039f"
             ],
             [
              0.2222222222222222,
              "#7201a8"
             ],
             [
              0.3333333333333333,
              "#9c179e"
             ],
             [
              0.4444444444444444,
              "#bd3786"
             ],
             [
              0.5555555555555556,
              "#d8576b"
             ],
             [
              0.6666666666666666,
              "#ed7953"
             ],
             [
              0.7777777777777778,
              "#fb9f3a"
             ],
             [
              0.8888888888888888,
              "#fdca26"
             ],
             [
              1,
              "#f0f921"
             ]
            ],
            "type": "histogram2dcontour"
           }
          ],
          "mesh3d": [
           {
            "colorbar": {
             "outlinewidth": 0,
             "ticks": ""
            },
            "type": "mesh3d"
           }
          ],
          "parcoords": [
           {
            "line": {
             "colorbar": {
              "outlinewidth": 0,
              "ticks": ""
             }
            },
            "type": "parcoords"
           }
          ],
          "pie": [
           {
            "automargin": true,
            "type": "pie"
           }
          ],
          "scatter": [
           {
            "fillpattern": {
             "fillmode": "overlay",
             "size": 10,
             "solidity": 0.2
            },
            "type": "scatter"
           }
          ],
          "scatter3d": [
           {
            "line": {
             "colorbar": {
              "outlinewidth": 0,
              "ticks": ""
             }
            },
            "marker": {
             "colorbar": {
              "outlinewidth": 0,
              "ticks": ""
             }
            },
            "type": "scatter3d"
           }
          ],
          "scattercarpet": [
           {
            "marker": {
             "colorbar": {
              "outlinewidth": 0,
              "ticks": ""
             }
            },
            "type": "scattercarpet"
           }
          ],
          "scattergeo": [
           {
            "marker": {
             "colorbar": {
              "outlinewidth": 0,
              "ticks": ""
             }
            },
            "type": "scattergeo"
           }
          ],
          "scattergl": [
           {
            "marker": {
             "colorbar": {
              "outlinewidth": 0,
              "ticks": ""
             }
            },
            "type": "scattergl"
           }
          ],
          "scattermapbox": [
           {
            "marker": {
             "colorbar": {
              "outlinewidth": 0,
              "ticks": ""
             }
            },
            "type": "scattermapbox"
           }
          ],
          "scatterpolar": [
           {
            "marker": {
             "colorbar": {
              "outlinewidth": 0,
              "ticks": ""
             }
            },
            "type": "scatterpolar"
           }
          ],
          "scatterpolargl": [
           {
            "marker": {
             "colorbar": {
              "outlinewidth": 0,
              "ticks": ""
             }
            },
            "type": "scatterpolargl"
           }
          ],
          "scatterternary": [
           {
            "marker": {
             "colorbar": {
              "outlinewidth": 0,
              "ticks": ""
             }
            },
            "type": "scatterternary"
           }
          ],
          "surface": [
           {
            "colorbar": {
             "outlinewidth": 0,
             "ticks": ""
            },
            "colorscale": [
             [
              0,
              "#0d0887"
             ],
             [
              0.1111111111111111,
              "#46039f"
             ],
             [
              0.2222222222222222,
              "#7201a8"
             ],
             [
              0.3333333333333333,
              "#9c179e"
             ],
             [
              0.4444444444444444,
              "#bd3786"
             ],
             [
              0.5555555555555556,
              "#d8576b"
             ],
             [
              0.6666666666666666,
              "#ed7953"
             ],
             [
              0.7777777777777778,
              "#fb9f3a"
             ],
             [
              0.8888888888888888,
              "#fdca26"
             ],
             [
              1,
              "#f0f921"
             ]
            ],
            "type": "surface"
           }
          ],
          "table": [
           {
            "cells": {
             "fill": {
              "color": "#EBF0F8"
             },
             "line": {
              "color": "white"
             }
            },
            "header": {
             "fill": {
              "color": "#C8D4E3"
             },
             "line": {
              "color": "white"
             }
            },
            "type": "table"
           }
          ]
         },
         "layout": {
          "annotationdefaults": {
           "arrowcolor": "#2a3f5f",
           "arrowhead": 0,
           "arrowwidth": 1
          },
          "autotypenumbers": "strict",
          "coloraxis": {
           "colorbar": {
            "outlinewidth": 0,
            "ticks": ""
           }
          },
          "colorscale": {
           "diverging": [
            [
             0,
             "#8e0152"
            ],
            [
             0.1,
             "#c51b7d"
            ],
            [
             0.2,
             "#de77ae"
            ],
            [
             0.3,
             "#f1b6da"
            ],
            [
             0.4,
             "#fde0ef"
            ],
            [
             0.5,
             "#f7f7f7"
            ],
            [
             0.6,
             "#e6f5d0"
            ],
            [
             0.7,
             "#b8e186"
            ],
            [
             0.8,
             "#7fbc41"
            ],
            [
             0.9,
             "#4d9221"
            ],
            [
             1,
             "#276419"
            ]
           ],
           "sequential": [
            [
             0,
             "#0d0887"
            ],
            [
             0.1111111111111111,
             "#46039f"
            ],
            [
             0.2222222222222222,
             "#7201a8"
            ],
            [
             0.3333333333333333,
             "#9c179e"
            ],
            [
             0.4444444444444444,
             "#bd3786"
            ],
            [
             0.5555555555555556,
             "#d8576b"
            ],
            [
             0.6666666666666666,
             "#ed7953"
            ],
            [
             0.7777777777777778,
             "#fb9f3a"
            ],
            [
             0.8888888888888888,
             "#fdca26"
            ],
            [
             1,
             "#f0f921"
            ]
           ],
           "sequentialminus": [
            [
             0,
             "#0d0887"
            ],
            [
             0.1111111111111111,
             "#46039f"
            ],
            [
             0.2222222222222222,
             "#7201a8"
            ],
            [
             0.3333333333333333,
             "#9c179e"
            ],
            [
             0.4444444444444444,
             "#bd3786"
            ],
            [
             0.5555555555555556,
             "#d8576b"
            ],
            [
             0.6666666666666666,
             "#ed7953"
            ],
            [
             0.7777777777777778,
             "#fb9f3a"
            ],
            [
             0.8888888888888888,
             "#fdca26"
            ],
            [
             1,
             "#f0f921"
            ]
           ]
          },
          "colorway": [
           "#636efa",
           "#EF553B",
           "#00cc96",
           "#ab63fa",
           "#FFA15A",
           "#19d3f3",
           "#FF6692",
           "#B6E880",
           "#FF97FF",
           "#FECB52"
          ],
          "font": {
           "color": "#2a3f5f"
          },
          "geo": {
           "bgcolor": "white",
           "lakecolor": "white",
           "landcolor": "#E5ECF6",
           "showlakes": true,
           "showland": true,
           "subunitcolor": "white"
          },
          "hoverlabel": {
           "align": "left"
          },
          "hovermode": "closest",
          "mapbox": {
           "style": "light"
          },
          "paper_bgcolor": "white",
          "plot_bgcolor": "#E5ECF6",
          "polar": {
           "angularaxis": {
            "gridcolor": "white",
            "linecolor": "white",
            "ticks": ""
           },
           "bgcolor": "#E5ECF6",
           "radialaxis": {
            "gridcolor": "white",
            "linecolor": "white",
            "ticks": ""
           }
          },
          "scene": {
           "xaxis": {
            "backgroundcolor": "#E5ECF6",
            "gridcolor": "white",
            "gridwidth": 2,
            "linecolor": "white",
            "showbackground": true,
            "ticks": "",
            "zerolinecolor": "white"
           },
           "yaxis": {
            "backgroundcolor": "#E5ECF6",
            "gridcolor": "white",
            "gridwidth": 2,
            "linecolor": "white",
            "showbackground": true,
            "ticks": "",
            "zerolinecolor": "white"
           },
           "zaxis": {
            "backgroundcolor": "#E5ECF6",
            "gridcolor": "white",
            "gridwidth": 2,
            "linecolor": "white",
            "showbackground": true,
            "ticks": "",
            "zerolinecolor": "white"
           }
          },
          "shapedefaults": {
           "line": {
            "color": "#2a3f5f"
           }
          },
          "ternary": {
           "aaxis": {
            "gridcolor": "white",
            "linecolor": "white",
            "ticks": ""
           },
           "baxis": {
            "gridcolor": "white",
            "linecolor": "white",
            "ticks": ""
           },
           "bgcolor": "#E5ECF6",
           "caxis": {
            "gridcolor": "white",
            "linecolor": "white",
            "ticks": ""
           }
          },
          "title": {
           "x": 0.05
          },
          "xaxis": {
           "automargin": true,
           "gridcolor": "white",
           "linecolor": "white",
           "ticks": "",
           "title": {
            "standoff": 15
           },
           "zerolinecolor": "white",
           "zerolinewidth": 2
          },
          "yaxis": {
           "automargin": true,
           "gridcolor": "white",
           "linecolor": "white",
           "ticks": "",
           "title": {
            "standoff": 15
           },
           "zerolinecolor": "white",
           "zerolinewidth": 2
          }
         }
        },
        "title": {
         "text": "Movies and Their rating"
        },
        "xaxis": {
         "autorange": true,
         "range": [
          -0.5,
          19.5
         ],
         "type": "category"
        },
        "yaxis": {
         "autorange": true,
         "range": [
          0,
          9.16421052631579
         ],
         "type": "linear"
        }
       }
      },
      "image/png": "[encoded data removed]",
      "text/html": [
       "<div>                            <div id=\"426ad755-4483-4761-9ccb-90489b829b2c\" class=\"plotly-graph-div\" style=\"height:525px; width:100%;\"></div>            <script type=\"text/javascript\">                require([\"plotly\"], function(Plotly) {                    window.PLOTLYENV=window.PLOTLYENV || {};                                    if (document.getElementById(\"426ad755-4483-4761-9ccb-90489b829b2c\")) {                    Plotly.newPlot(                        \"426ad755-4483-4761-9ccb-90489b829b2c\",                        [{\"marker\":{\"color\":\"blue\"},\"x\":[\"The Shawshank Redemption\",\"The Godfather\",\"The Godfather Part II\",\"Schindler's List\",\"12 Angry Men\",\"The Dark Knight\",\"\\uae30\\uc0dd\\ucda9\",\"The Green Mile\",\"\\u0926\\u093f\\u0932\\u0935\\u093e\\u0932\\u0947 \\u0926\\u0941\\u0932\\u094d\\u0939\\u0928\\u093f\\u092f\\u093e \\u0932\\u0947 \\u091c\\u093e\\u092f\\u0947\\u0902\\u0917\\u0947\",\"\\u5343\\u3068\\u5343\\u5c0b\\u306e\\u795e\\u96a0\\u3057\",\"Cosas imposibles\",\"GoodFellas\",\"\\u541b\\u306e\\u540d\\u306f\\u3002\",\"Pulp Fiction\",\"The Lord of the Rings: The Return of the King\",\"Forrest Gump\",\"Il buono, il brutto, il cattivo\",\"\\u4e03\\u4eba\\u306e\\u4f8d\",\"\\u706b\\u5782\\u308b\\u306e\\u5893\",\"La vita \\u00e8 bella\"],\"y\":[8.706,8.7,8.6,8.565,8.543,8.516,8.507,8.506,8.5,8.5,8.5,8.5,8.488,8.487,8.481,8.474,8.465,8.462,8.458,8.451],\"type\":\"bar\"}],                        {\"title\":{\"text\":\"Movies and Their rating\"},\"template\":{\"data\":{\"histogram2dcontour\":[{\"type\":\"histogram2dcontour\",\"colorbar\":{\"outlinewidth\":0,\"ticks\":\"\"},\"colorscale\":[[0.0,\"#0d0887\"],[0.1111111111111111,\"#46039f\"],[0.2222222222222222,\"#7201a8\"],[0.3333333333333333,\"#9c179e\"],[0.4444444444444444,\"#bd3786\"],[0.5555555555555556,\"#d8576b\"],[0.6666666666666666,\"#ed7953\"],[0.7777777777777778,\"#fb9f3a\"],[0.8888888888888888,\"#fdca26\"],[1.0,\"#f0f921\"]]}],\"choropleth\":[{\"type\":\"choropleth\",\"colorbar\":{\"outlinewidth\":0,\"ticks\":\"\"}}],\"histogram2d\":[{\"type\":\"histogram2d\",\"colorbar\":{\"outlinewidth\":0,\"ticks\":\"\"},\"colorscale\":[[0.0,\"#0d0887\"],[0.1111111111111111,\"#46039f\"],[0.2222222222222222,\"#7201a8\"],[0.3333333333333333,\"#9c179e\"],[0.4444444444444444,\"#bd3786\"],[0.5555555555555556,\"#d8576b\"],[0.6666666666666666,\"#ed7953\"],[0.7777777777777778,\"#fb9f3a\"],[0.8888888888888888,\"#fdca26\"],[1.0,\"#f0f921\"]]}],\"heatmap\":[{\"type\":\"heatmap\",\"colorbar\":{\"outlinewidth\":0,\"ticks\":\"\"},\"colorscale\":[[0.0,\"#0d0887\"],[0.1111111111111111,\"#46039f\"],[0.2222222222222222,\"#7201a8\"],[0.3333333333333333,\"#9c179e\"],[0.4444444444444444,\"#bd3786\"],[0.5555555555555556,\"#d8576b\"],[0.6666666666666666,\"#ed7953\"],[0.7777777777777778,\"#fb9f3a\"],[0.8888888888888888,\"#fdca26\"],[1.0,\"#f0f921\"]]}],\"heatmapgl\":[{\"type\":\"heatmapgl\",\"colorbar\":{\"outlinewidth\":0,\"ticks\":\"\"},\"colorscale\":[[0.0,\"#0d0887\"],[0.1111111111111111,\"#46039f\"],[0.2222222222222222,\"#7201a8\"],[0.3333333333333333,\"#9c179e\"],[0.4444444444444444,\"#bd3786\"],[0.5555555555555556,\"#d8576b\"],[0.6666666666666666,\"#ed7953\"],[0.7777777777777778,\"#fb9f3a\"],[0.8888888888888888,\"#fdca26\"],[1.0,\"#f0f921\"]]}],\"contourcarpet\":[{\"type\":\"contourcarpet\",\"colorbar\":{\"outlinewidth\":0,\"ticks\":\"\"}}],\"contour\":[{\"type\":\"contour\",\"colorbar\":{\"outlinewidth\":0,\"ticks\":\"\"},\"colorscale\":[[0.0,\"#0d0887\"],[0.1111111111111111,\"#46039f\"],[0.2222222222222222,\"#7201a8\"],[0.3333333333333333,\"#9c179e\"],[0.4444444444444444,\"#bd3786\"],[0.5555555555555556,\"#d8576b\"],[0.6666666666666666,\"#ed7953\"],[0.7777777777777778,\"#fb9f3a\"],[0.8888888888888888,\"#fdca26\"],[1.0,\"#f0f921\"]]}],\"surface\":[{\"type\":\"surface\",\"colorbar\":{\"outlinewidth\":0,\"ticks\":\"\"},\"colorscale\":[[0.0,\"#0d0887\"],[0.1111111111111111,\"#46039f\"],[0.2222222222222222,\"#7201a8\"],[0.3333333333333333,\"#9c179e\"],[0.4444444444444444,\"#bd3786\"],[0.5555555555555556,\"#d8576b\"],[0.6666666666666666,\"#ed7953\"],[0.7777777777777778,\"#fb9f3a\"],[0.8888888888888888,\"#fdca26\"],[1.0,\"#f0f921\"]]}],\"mesh3d\":[{\"type\":\"mesh3d\",\"colorbar\":{\"outlinewidth\":0,\"ticks\":\"\"}}],\"scatter\":[{\"fillpattern\":{\"fillmode\":\"overlay\",\"size\":10,\"solidity\":0.2},\"type\":\"scatter\"}],\"parcoords\":[{\"type\":\"parcoords\",\"line\":{\"colorbar\":{\"outlinewidth\":0,\"ticks\":\"\"}}}],\"scatterpolargl\":[{\"type\":\"scatterpolargl\",\"marker\":{\"colorbar\":{\"outlinewidth\":0,\"ticks\":\"\"}}}],\"bar\":[{\"error_x\":{\"color\":\"#2a3f5f\"},\"error_y\":{\"color\":\"#2a3f5f\"},\"marker\":{\"line\":{\"color\":\"#E5ECF6\",\"width\":0.5},\"pattern\":{\"fillmode\":\"overlay\",\"size\":10,\"solidity\":0.2}},\"type\":\"bar\"}],\"scattergeo\":[{\"type\":\"scattergeo\",\"marker\":{\"colorbar\":{\"outlinewidth\":0,\"ticks\":\"\"}}}],\"scatterpolar\":[{\"type\":\"scatterpolar\",\"marker\":{\"colorbar\":{\"outlinewidth\":0,\"ticks\":\"\"}}}],\"histogram\":[{\"marker\":{\"pattern\":{\"fillmode\":\"overlay\",\"size\":10,\"solidity\":0.2}},\"type\":\"histogram\"}],\"scattergl\":[{\"type\":\"scattergl\",\"marker\":{\"colorbar\":{\"outlinewidth\":0,\"ticks\":\"\"}}}],\"scatter3d\":[{\"type\":\"scatter3d\",\"line\":{\"colorbar\":{\"outlinewidth\":0,\"ticks\":\"\"}},\"marker\":{\"colorbar\":{\"outlinewidth\":0,\"ticks\":\"\"}}}],\"scattermapbox\":[{\"type\":\"scattermapbox\",\"marker\":{\"colorbar\":{\"outlinewidth\":0,\"ticks\":\"\"}}}],\"scatterternary\":[{\"type\":\"scatterternary\",\"marker\":{\"colorbar\":{\"outlinewidth\":0,\"ticks\":\"\"}}}],\"scattercarpet\":[{\"type\":\"scattercarpet\",\"marker\":{\"colorbar\":{\"outlinewidth\":0,\"ticks\":\"\"}}}],\"carpet\":[{\"aaxis\":{\"endlinecolor\":\"#2a3f5f\",\"gridcolor\":\"white\",\"linecolor\":\"white\",\"minorgridcolor\":\"white\",\"startlinecolor\":\"#2a3f5f\"},\"baxis\":{\"endlinecolor\":\"#2a3f5f\",\"gridcolor\":\"white\",\"linecolor\":\"white\",\"minorgridcolor\":\"white\",\"startlinecolor\":\"#2a3f5f\"},\"type\":\"carpet\"}],\"table\":[{\"cells\":{\"fill\":{\"color\":\"#EBF0F8\"},\"line\":{\"color\":\"white\"}},\"header\":{\"fill\":{\"color\":\"#C8D4E3\"},\"line\":{\"color\":\"white\"}},\"type\":\"table\"}],\"barpolar\":[{\"marker\":{\"line\":{\"color\":\"#E5ECF6\",\"width\":0.5},\"pattern\":{\"fillmode\":\"overlay\",\"size\":10,\"solidity\":0.2}},\"type\":\"barpolar\"}],\"pie\":[{\"automargin\":true,\"type\":\"pie\"}]},\"layout\":{\"autotypenumbers\":\"strict\",\"colorway\":[\"#636efa\",\"#EF553B\",\"#00cc96\",\"#ab63fa\",\"#FFA15A\",\"#19d3f3\",\"#FF6692\",\"#B6E880\",\"#FF97FF\",\"#FECB52\"],\"font\":{\"color\":\"#2a3f5f\"},\"hovermode\":\"closest\",\"hoverlabel\":{\"align\":\"left\"},\"paper_bgcolor\":\"white\",\"plot_bgcolor\":\"#E5ECF6\",\"polar\":{\"bgcolor\":\"#E5ECF6\",\"angularaxis\":{\"gridcolor\":\"white\",\"linecolor\":\"white\",\"ticks\":\"\"},\"radialaxis\":{\"gridcolor\":\"white\",\"linecolor\":\"white\",\"ticks\":\"\"}},\"ternary\":{\"bgcolor\":\"#E5ECF6\",\"aaxis\":{\"gridcolor\":\"white\",\"linecolor\":\"white\",\"ticks\":\"\"},\"baxis\":{\"gridcolor\":\"white\",\"linecolor\":\"white\",\"ticks\":\"\"},\"caxis\":{\"gridcolor\":\"white\",\"linecolor\":\"white\",\"ticks\":\"\"}},\"coloraxis\":{\"colorbar\":{\"outlinewidth\":0,\"ticks\":\"\"}},\"colorscale\":{\"sequential\":[[0.0,\"#0d0887\"],[0.1111111111111111,\"#46039f\"],[0.2222222222222222,\"#7201a8\"],[0.3333333333333333,\"#9c179e\"],[0.4444444444444444,\"#bd3786\"],[0.5555555555555556,\"#d8576b\"],[0.6666666666666666,\"#ed7953\"],[0.7777777777777778,\"#fb9f3a\"],[0.8888888888888888,\"#fdca26\"],[1.0,\"#f0f921\"]],\"sequentialminus\":[[0.0,\"#0d0887\"],[0.1111111111111111,\"#46039f\"],[0.2222222222222222,\"#7201a8\"],[0.3333333333333333,\"#9c179e\"],[0.4444444444444444,\"#bd3786\"],[0.5555555555555556,\"#d8576b\"],[0.6666666666666666,\"#ed7953\"],[0.7777777777777778,\"#fb9f3a\"],[0.8888888888888888,\"#fdca26\"],[1.0,\"#f0f921\"]],\"diverging\":[[0,\"#8e0152\"],[0.1,\"#c51b7d\"],[0.2,\"#de77ae\"],[0.3,\"#f1b6da\"],[0.4,\"#fde0ef\"],[0.5,\"#f7f7f7\"],[0.6,\"#e6f5d0\"],[0.7,\"#b8e186\"],[0.8,\"#7fbc41\"],[0.9,\"#4d9221\"],[1,\"#276419\"]]},\"xaxis\":{\"gridcolor\":\"white\",\"linecolor\":\"white\",\"ticks\":\"\",\"title\":{\"standoff\":15},\"zerolinecolor\":\"white\",\"automargin\":true,\"zerolinewidth\":2},\"yaxis\":{\"gridcolor\":\"white\",\"linecolor\":\"white\",\"ticks\":\"\",\"title\":{\"standoff\":15},\"zerolinecolor\":\"white\",\"automargin\":true,\"zerolinewidth\":2},\"scene\":{\"xaxis\":{\"backgroundcolor\":\"#E5ECF6\",\"gridcolor\":\"white\",\"linecolor\":\"white\",\"showbackground\":true,\"ticks\":\"\",\"zerolinecolor\":\"white\",\"gridwidth\":2},\"yaxis\":{\"backgroundcolor\":\"#E5ECF6\",\"gridcolor\":\"white\",\"linecolor\":\"white\",\"showbackground\":true,\"ticks\":\"\",\"zerolinecolor\":\"white\",\"gridwidth\":2},\"zaxis\":{\"backgroundcolor\":\"#E5ECF6\",\"gridcolor\":\"white\",\"linecolor\":\"white\",\"showbackground\":true,\"ticks\":\"\",\"zerolinecolor\":\"white\",\"gridwidth\":2}},\"shapedefaults\":{\"line\":{\"color\":\"#2a3f5f\"}},\"annotationdefaults\":{\"arrowcolor\":\"#2a3f5f\",\"arrowhead\":0,\"arrowwidth\":1},\"geo\":{\"bgcolor\":\"white\",\"landcolor\":\"#E5ECF6\",\"subunitcolor\":\"white\",\"showland\":true,\"showlakes\":true,\"lakecolor\":\"white\"},\"title\":{\"x\":0.05},\"mapbox\":{\"style\":\"light\"}}}},                        {\"responsive\": true}                    ).then(function(){\n",
       "                            \n",
       "var gd = document.getElementById('426ad755-4483-4761-9ccb-90489b829b2c');\n",
       "var x = new MutationObserver(function (mutations, observer) {{\n",
       "        var display = window.getComputedStyle(gd).display;\n",
       "        if (!display || display === 'none') {{\n",
       "            console.log([gd, 'removed!']);\n",
       "            Plotly.purge(gd);\n",
       "            observer.disconnect();\n",
       "        }}\n",
       "}});\n",
       "\n",
       "// Listen for the removal of the full notebook cells\n",
       "var notebookContainer = gd.closest('#notebook-container');\n",
       "if (notebookContainer) {{\n",
       "    x.observe(notebookContainer, {childList: true});\n",
       "}}\n",
       "\n",
       "// Listen for the clearing of the current output cell\n",
       "var outputEl = gd.closest('.output');\n",
       "if (outputEl) {{\n",
       "    x.observe(outputEl, {childList: true});\n",
       "}}\n",
       "\n",
       "                        })                };                });            </script>        </div>"
      ]
     },
     "metadata": {},
     "output_type": "display_data"
    }
   ],
   "source": [
    "trace=go.Bar(x=top['original_title'],y=top['vote_average'],marker=dict(color='blue'))\n",
    "data = [trace]\n",
    "layout = go.Layout(title='Movies and Their rating')\n",
    "fig = go.Figure(data=data, layout=layout)\n",
    "\n",
    "fig.show()"
   ]
  },
  {
   "cell_type": "markdown",
   "id": "2f0ebf09-fefc-4844-8e57-f27df9a51073",
   "metadata": {},
   "source": [
    "# data from Rapid using API"
   ]
  },
  {
   "cell_type": "code",
   "execution_count": 144,
   "id": "e251a3c6-8bca-4de0-bed2-dd509d1fe5ae",
   "metadata": {},
   "outputs": [
    {
     "data": {
      "text/html": [
       "<div>\n",
       "<style scoped>\n",
       "    .dataframe tbody tr th:only-of-type {\n",
       "        vertical-align: middle;\n",
       "    }\n",
       "\n",
       "    .dataframe tbody tr th {\n",
       "        vertical-align: top;\n",
       "    }\n",
       "\n",
       "    .dataframe thead th {\n",
       "        text-align: right;\n",
       "    }\n",
       "</style>\n",
       "<table border=\"1\" class=\"dataframe\">\n",
       "  <thead>\n",
       "    <tr style=\"text-align: right;\">\n",
       "      <th></th>\n",
       "      <th>index</th>\n",
       "      <th>asin</th>\n",
       "      <th>product_title</th>\n",
       "      <th>product_price</th>\n",
       "      <th>product_original_price</th>\n",
       "      <th>currency</th>\n",
       "      <th>product_star_rating</th>\n",
       "      <th>product_num_ratings</th>\n",
       "      <th>product_url</th>\n",
       "      <th>product_photo</th>\n",
       "      <th>...</th>\n",
       "      <th>product_minimum_offer_price</th>\n",
       "      <th>is_best_seller</th>\n",
       "      <th>is_amazon_choice</th>\n",
       "      <th>is_prime</th>\n",
       "      <th>climate_pledge_friendly</th>\n",
       "      <th>sales_volume</th>\n",
       "      <th>delivery</th>\n",
       "      <th>has_variations</th>\n",
       "      <th>unit_price</th>\n",
       "      <th>unit_count</th>\n",
       "    </tr>\n",
       "  </thead>\n",
       "  <tbody>\n",
       "    <tr>\n",
       "      <th>0</th>\n",
       "      <td>0</td>\n",
       "      <td>B0CWXNS552</td>\n",
       "      <td>Apple AirTag</td>\n",
       "      <td>$24.99</td>\n",
       "      <td>$29.00</td>\n",
       "      <td>USD</td>\n",
       "      <td>4.6</td>\n",
       "      <td>5423</td>\n",
       "      <td>https://www.amazon.com/dp/B0CWXNS552</td>\n",
       "      <td>https://m.media-amazon.com/images/I/71rP7f78eF...</td>\n",
       "      <td>...</td>\n",
       "      <td>$21.49</td>\n",
       "      <td>False</td>\n",
       "      <td>True</td>\n",
       "      <td>True</td>\n",
       "      <td>False</td>\n",
       "      <td>10K+ bought in past month</td>\n",
       "      <td>FREE delivery Sat, Aug 17 on $35 of items ship...</td>\n",
       "      <td>False</td>\n",
       "      <td>NaN</td>\n",
       "      <td>NaN</td>\n",
       "    </tr>\n",
       "    <tr>\n",
       "      <th>1</th>\n",
       "      <td>1</td>\n",
       "      <td>B0D54JZTHY</td>\n",
       "      <td>Apple AirTag 4 pack</td>\n",
       "      <td>$72.99</td>\n",
       "      <td>$99.00</td>\n",
       "      <td>USD</td>\n",
       "      <td>4.7</td>\n",
       "      <td>801</td>\n",
       "      <td>https://www.amazon.com/dp/B0D54JZTHY</td>\n",
       "      <td>https://m.media-amazon.com/images/I/61bMNCeAUA...</td>\n",
       "      <td>...</td>\n",
       "      <td>$72.26</td>\n",
       "      <td>False</td>\n",
       "      <td>False</td>\n",
       "      <td>True</td>\n",
       "      <td>False</td>\n",
       "      <td>10K+ bought in past month</td>\n",
       "      <td>FREE delivery Sat, Aug 17 Or fastest delivery ...</td>\n",
       "      <td>False</td>\n",
       "      <td>NaN</td>\n",
       "      <td>NaN</td>\n",
       "    </tr>\n",
       "    <tr>\n",
       "      <th>2</th>\n",
       "      <td>2</td>\n",
       "      <td>B0CRCWCGNW</td>\n",
       "      <td>Amazon Basics Purple Washable School Glue Stic...</td>\n",
       "      <td>$0.25</td>\n",
       "      <td>None</td>\n",
       "      <td>USD</td>\n",
       "      <td>4.7</td>\n",
       "      <td>8103</td>\n",
       "      <td>https://www.amazon.com/dp/B0CRCWCGNW</td>\n",
       "      <td>https://m.media-amazon.com/images/I/713QRmQtrc...</td>\n",
       "      <td>...</td>\n",
       "      <td>$0.25</td>\n",
       "      <td>False</td>\n",
       "      <td>False</td>\n",
       "      <td>True</td>\n",
       "      <td>False</td>\n",
       "      <td>50K+ bought in past month</td>\n",
       "      <td>FREE delivery Sat, Aug 17 on $35 of items ship...</td>\n",
       "      <td>False</td>\n",
       "      <td>$0.59</td>\n",
       "      <td>0.0</td>\n",
       "    </tr>\n",
       "    <tr>\n",
       "      <th>3</th>\n",
       "      <td>3</td>\n",
       "      <td>B0CRDYZVDC</td>\n",
       "      <td>Amazon Basics Heavy Duty Plastic Folders with ...</td>\n",
       "      <td>$0.49</td>\n",
       "      <td>None</td>\n",
       "      <td>USD</td>\n",
       "      <td>4.8</td>\n",
       "      <td>13759</td>\n",
       "      <td>https://www.amazon.com/dp/B0CRDYZVDC</td>\n",
       "      <td>https://m.media-amazon.com/images/I/61aub4rRv9...</td>\n",
       "      <td>...</td>\n",
       "      <td>$0.49</td>\n",
       "      <td>True</td>\n",
       "      <td>False</td>\n",
       "      <td>True</td>\n",
       "      <td>False</td>\n",
       "      <td>80K+ bought in past month</td>\n",
       "      <td>FREE delivery Sat, Aug 17 on $35 of items ship...</td>\n",
       "      <td>False</td>\n",
       "      <td>$0.25</td>\n",
       "      <td>2.0</td>\n",
       "    </tr>\n",
       "    <tr>\n",
       "      <th>4</th>\n",
       "      <td>4</td>\n",
       "      <td>B0CRB1VZ46</td>\n",
       "      <td>Amazon Basics Multipurpose, Comfort Grip, PVD ...</td>\n",
       "      <td>$2.39</td>\n",
       "      <td>None</td>\n",
       "      <td>USD</td>\n",
       "      <td>4.8</td>\n",
       "      <td>55088</td>\n",
       "      <td>https://www.amazon.com/dp/B0CRB1VZ46</td>\n",
       "      <td>https://m.media-amazon.com/images/I/51XUXWgWF8...</td>\n",
       "      <td>...</td>\n",
       "      <td>$2.39</td>\n",
       "      <td>True</td>\n",
       "      <td>False</td>\n",
       "      <td>True</td>\n",
       "      <td>False</td>\n",
       "      <td>40K+ bought in past month</td>\n",
       "      <td>FREE delivery Sat, Aug 17 on $35 of items ship...</td>\n",
       "      <td>False</td>\n",
       "      <td>NaN</td>\n",
       "      <td>NaN</td>\n",
       "    </tr>\n",
       "    <tr>\n",
       "      <th>5</th>\n",
       "      <td>5</td>\n",
       "      <td>1668048043</td>\n",
       "      <td>The Art of Power: My Story as America&amp;#x27;s F...</td>\n",
       "      <td>$20.04</td>\n",
       "      <td>$30.00</td>\n",
       "      <td>USD</td>\n",
       "      <td>4.3</td>\n",
       "      <td>66</td>\n",
       "      <td>https://www.amazon.com/dp/1668048043</td>\n",
       "      <td>https://m.media-amazon.com/images/I/81pkG+yMwr...</td>\n",
       "      <td>...</td>\n",
       "      <td>$20.04</td>\n",
       "      <td>False</td>\n",
       "      <td>False</td>\n",
       "      <td>True</td>\n",
       "      <td>False</td>\n",
       "      <td>List:</td>\n",
       "      <td>FREE delivery Sat, Aug 17 on $35 of items ship...</td>\n",
       "      <td>False</td>\n",
       "      <td>NaN</td>\n",
       "      <td>NaN</td>\n",
       "    </tr>\n",
       "    <tr>\n",
       "      <th>6</th>\n",
       "      <td>6</td>\n",
       "      <td>1649374186</td>\n",
       "      <td>Onyx Storm (Deluxe Limited Edition) (The Empyr...</td>\n",
       "      <td>$19.78</td>\n",
       "      <td>$32.99</td>\n",
       "      <td>USD</td>\n",
       "      <td>None</td>\n",
       "      <td>0</td>\n",
       "      <td>https://www.amazon.com/dp/1649374186</td>\n",
       "      <td>https://m.media-amazon.com/images/I/9101MLPcFT...</td>\n",
       "      <td>...</td>\n",
       "      <td>$19.78</td>\n",
       "      <td>False</td>\n",
       "      <td>False</td>\n",
       "      <td>False</td>\n",
       "      <td>False</td>\n",
       "      <td>List:</td>\n",
       "      <td>FREE delivery on $35 shipped by Amazon.This ti...</td>\n",
       "      <td>False</td>\n",
       "      <td>NaN</td>\n",
       "      <td>NaN</td>\n",
       "    </tr>\n",
       "    <tr>\n",
       "      <th>7</th>\n",
       "      <td>7</td>\n",
       "      <td>B0CVLHTFDS</td>\n",
       "      <td>Natural Selection: A Short Story</td>\n",
       "      <td>$1.99</td>\n",
       "      <td>None</td>\n",
       "      <td>USD</td>\n",
       "      <td>4</td>\n",
       "      <td>6898</td>\n",
       "      <td>https://www.amazon.com/dp/B0CVLHTFDS</td>\n",
       "      <td>https://m.media-amazon.com/images/I/81rMfFTVmY...</td>\n",
       "      <td>...</td>\n",
       "      <td>$1.99</td>\n",
       "      <td>True</td>\n",
       "      <td>False</td>\n",
       "      <td>False</td>\n",
       "      <td>False</td>\n",
       "      <td>Other format:</td>\n",
       "      <td>This title will be released on September 1, 2024.</td>\n",
       "      <td>False</td>\n",
       "      <td>NaN</td>\n",
       "      <td>NaN</td>\n",
       "    </tr>\n",
       "    <tr>\n",
       "      <th>8</th>\n",
       "      <td>8</td>\n",
       "      <td>B0DBMMFGWJ</td>\n",
       "      <td>Dr. Seuss&amp;#x27; How the Grinch Stole Christmas...</td>\n",
       "      <td>$33.99</td>\n",
       "      <td>None</td>\n",
       "      <td>USD</td>\n",
       "      <td>4.8</td>\n",
       "      <td>31650</td>\n",
       "      <td>https://www.amazon.com/dp/B0DBMMFGWJ</td>\n",
       "      <td>https://m.media-amazon.com/images/I/71awDHU4h4...</td>\n",
       "      <td>...</td>\n",
       "      <td>$33.99</td>\n",
       "      <td>False</td>\n",
       "      <td>False</td>\n",
       "      <td>True</td>\n",
       "      <td>False</td>\n",
       "      <td>400+ bought in past month</td>\n",
       "      <td>FREE delivery Mon, Nov 4 on $35 of items shipp...</td>\n",
       "      <td>False</td>\n",
       "      <td>NaN</td>\n",
       "      <td>NaN</td>\n",
       "    </tr>\n",
       "    <tr>\n",
       "      <th>9</th>\n",
       "      <td>9</td>\n",
       "      <td>B0CRDWCGBG</td>\n",
       "      <td>Amazon Basics 3-Ring Binder, 1-Inch - White 1 ...</td>\n",
       "      <td>$2.50</td>\n",
       "      <td>None</td>\n",
       "      <td>USD</td>\n",
       "      <td>4.7</td>\n",
       "      <td>17618</td>\n",
       "      <td>https://www.amazon.com/dp/B0CRDWCGBG</td>\n",
       "      <td>https://m.media-amazon.com/images/I/514-XVfxdJ...</td>\n",
       "      <td>...</td>\n",
       "      <td>$2.50</td>\n",
       "      <td>True</td>\n",
       "      <td>False</td>\n",
       "      <td>True</td>\n",
       "      <td>False</td>\n",
       "      <td>50K+ bought in past month</td>\n",
       "      <td>FREE delivery Sat, Aug 17 on $35 of items ship...</td>\n",
       "      <td>False</td>\n",
       "      <td>NaN</td>\n",
       "      <td>NaN</td>\n",
       "    </tr>\n",
       "    <tr>\n",
       "      <th>10</th>\n",
       "      <td>10</td>\n",
       "      <td>B0DCKFWW1V</td>\n",
       "      <td>FINAL FANTASY I-VI Collection Anniversary Edit...</td>\n",
       "      <td>$74.99</td>\n",
       "      <td>None</td>\n",
       "      <td>USD</td>\n",
       "      <td>None</td>\n",
       "      <td>0</td>\n",
       "      <td>https://www.amazon.com/dp/B0DCKFWW1V</td>\n",
       "      <td>https://m.media-amazon.com/images/I/71QWO4tJLo...</td>\n",
       "      <td>...</td>\n",
       "      <td>$74.99</td>\n",
       "      <td>True</td>\n",
       "      <td>False</td>\n",
       "      <td>False</td>\n",
       "      <td>False</td>\n",
       "      <td>Oct 8, 2024</td>\n",
       "      <td>FREE deliveryThis item will be released on Oct...</td>\n",
       "      <td>False</td>\n",
       "      <td>NaN</td>\n",
       "      <td>NaN</td>\n",
       "    </tr>\n",
       "    <tr>\n",
       "      <th>11</th>\n",
       "      <td>11</td>\n",
       "      <td>B0DCG8Z9W6</td>\n",
       "      <td>American Idiot 20th Anniversary Red &amp;amp; Blac...</td>\n",
       "      <td>$39.98</td>\n",
       "      <td>None</td>\n",
       "      <td>USD</td>\n",
       "      <td>4.8</td>\n",
       "      <td>306</td>\n",
       "      <td>https://www.amazon.com/dp/B0DCG8Z9W6</td>\n",
       "      <td>https://m.media-amazon.com/images/I/81uv6oFiiE...</td>\n",
       "      <td>...</td>\n",
       "      <td>$39.98</td>\n",
       "      <td>False</td>\n",
       "      <td>False</td>\n",
       "      <td>True</td>\n",
       "      <td>False</td>\n",
       "      <td>Other formats:</td>\n",
       "      <td>FREE delivery Tue, Oct 29 Or fastest delivery ...</td>\n",
       "      <td>False</td>\n",
       "      <td>NaN</td>\n",
       "      <td>NaN</td>\n",
       "    </tr>\n",
       "    <tr>\n",
       "      <th>12</th>\n",
       "      <td>12</td>\n",
       "      <td>B0D7FVQ1ZB</td>\n",
       "      <td>Apple EarPods Headphones with Lightning Connec...</td>\n",
       "      <td>$19.99</td>\n",
       "      <td>None</td>\n",
       "      <td>USD</td>\n",
       "      <td>4.7</td>\n",
       "      <td>4048</td>\n",
       "      <td>https://www.amazon.com/dp/B0D7FVQ1ZB</td>\n",
       "      <td>https://m.media-amazon.com/images/I/317eB4+yU6...</td>\n",
       "      <td>...</td>\n",
       "      <td>$19.19</td>\n",
       "      <td>False</td>\n",
       "      <td>False</td>\n",
       "      <td>True</td>\n",
       "      <td>False</td>\n",
       "      <td>10K+ bought in past month</td>\n",
       "      <td>FREE delivery Sat, Aug 17 on $35 of items ship...</td>\n",
       "      <td>False</td>\n",
       "      <td>NaN</td>\n",
       "      <td>NaN</td>\n",
       "    </tr>\n",
       "    <tr>\n",
       "      <th>13</th>\n",
       "      <td>13</td>\n",
       "      <td>B0DCKFZ1V6</td>\n",
       "      <td>FINAL FANTASY I-VI Collection Anniversary Edit...</td>\n",
       "      <td>$74.99</td>\n",
       "      <td>None</td>\n",
       "      <td>USD</td>\n",
       "      <td>None</td>\n",
       "      <td>0</td>\n",
       "      <td>https://www.amazon.com/dp/B0DCKFZ1V6</td>\n",
       "      <td>https://m.media-amazon.com/images/I/71MNXiXewn...</td>\n",
       "      <td>...</td>\n",
       "      <td>$74.99</td>\n",
       "      <td>True</td>\n",
       "      <td>False</td>\n",
       "      <td>False</td>\n",
       "      <td>False</td>\n",
       "      <td>Oct 8, 2024</td>\n",
       "      <td>FREE deliveryThis item will be released on Oct...</td>\n",
       "      <td>False</td>\n",
       "      <td>NaN</td>\n",
       "      <td>NaN</td>\n",
       "    </tr>\n",
       "    <tr>\n",
       "      <th>14</th>\n",
       "      <td>14</td>\n",
       "      <td>B0D8N3B4HC</td>\n",
       "      <td>Borderlands 4K Digital Amazon Steelbook 4K UHD</td>\n",
       "      <td>$34.99</td>\n",
       "      <td>None</td>\n",
       "      <td>USD</td>\n",
       "      <td>None</td>\n",
       "      <td>0</td>\n",
       "      <td>https://www.amazon.com/dp/B0D8N3B4HC</td>\n",
       "      <td>https://m.media-amazon.com/images/I/81yndbRVDP...</td>\n",
       "      <td>...</td>\n",
       "      <td>$34.99</td>\n",
       "      <td>False</td>\n",
       "      <td>False</td>\n",
       "      <td>False</td>\n",
       "      <td>False</td>\n",
       "      <td>1K+ bought in past month</td>\n",
       "      <td>FREE delivery on $35 shipped by Amazon.This ti...</td>\n",
       "      <td>False</td>\n",
       "      <td>NaN</td>\n",
       "      <td>NaN</td>\n",
       "    </tr>\n",
       "    <tr>\n",
       "      <th>15</th>\n",
       "      <td>15</td>\n",
       "      <td>B07RFSSYBH</td>\n",
       "      <td>Atomic Habits: An Easy &amp;amp; Proven Way to Bui...</td>\n",
       "      <td>$0.00</td>\n",
       "      <td>$18.00</td>\n",
       "      <td>USD</td>\n",
       "      <td>4.8</td>\n",
       "      <td>130852</td>\n",
       "      <td>https://www.amazon.com/dp/B07RFSSYBH</td>\n",
       "      <td>https://m.media-amazon.com/images/I/71F4+7rk2e...</td>\n",
       "      <td>...</td>\n",
       "      <td>$0.00</td>\n",
       "      <td>True</td>\n",
       "      <td>False</td>\n",
       "      <td>False</td>\n",
       "      <td>False</td>\n",
       "      <td>Other formats:</td>\n",
       "      <td>Available instantly</td>\n",
       "      <td>False</td>\n",
       "      <td>NaN</td>\n",
       "      <td>NaN</td>\n",
       "    </tr>\n",
       "    <tr>\n",
       "      <th>16</th>\n",
       "      <td>16</td>\n",
       "      <td>B0D5FZGY8W</td>\n",
       "      <td>URO Vaginal Probiotics for Women pH Balance wi...</td>\n",
       "      <td>$28.79</td>\n",
       "      <td>$31.99</td>\n",
       "      <td>USD</td>\n",
       "      <td>4.5</td>\n",
       "      <td>1564</td>\n",
       "      <td>https://www.amazon.com/dp/B0D5FZGY8W</td>\n",
       "      <td>https://m.media-amazon.com/images/I/61tYAHJi3L...</td>\n",
       "      <td>...</td>\n",
       "      <td>$28.79</td>\n",
       "      <td>True</td>\n",
       "      <td>False</td>\n",
       "      <td>True</td>\n",
       "      <td>False</td>\n",
       "      <td>100K+ bought in past month</td>\n",
       "      <td>FREE delivery Sat, Aug 17 on $35 of items ship...</td>\n",
       "      <td>False</td>\n",
       "      <td>$0.48</td>\n",
       "      <td>60.0</td>\n",
       "    </tr>\n",
       "    <tr>\n",
       "      <th>17</th>\n",
       "      <td>17</td>\n",
       "      <td>B0CRDXKKVY</td>\n",
       "      <td>Amazon Basics Pencil Box, 1-Pack, Blue, Solid</td>\n",
       "      <td>$1.99</td>\n",
       "      <td>None</td>\n",
       "      <td>USD</td>\n",
       "      <td>4.2</td>\n",
       "      <td>2753</td>\n",
       "      <td>https://www.amazon.com/dp/B0CRDXKKVY</td>\n",
       "      <td>https://m.media-amazon.com/images/I/7184gKknb1...</td>\n",
       "      <td>...</td>\n",
       "      <td>$1.99</td>\n",
       "      <td>True</td>\n",
       "      <td>False</td>\n",
       "      <td>True</td>\n",
       "      <td>False</td>\n",
       "      <td>20K+ bought in past month</td>\n",
       "      <td>FREE delivery Sat, Aug 17 on $35 of items ship...</td>\n",
       "      <td>False</td>\n",
       "      <td>NaN</td>\n",
       "      <td>NaN</td>\n",
       "    </tr>\n",
       "    <tr>\n",
       "      <th>18</th>\n",
       "      <td>18</td>\n",
       "      <td>0062300555</td>\n",
       "      <td>Hillbilly Elegy: A Memoir of a Family and Cult...</td>\n",
       "      <td>$11.53</td>\n",
       "      <td>$18.99</td>\n",
       "      <td>USD</td>\n",
       "      <td>4.4</td>\n",
       "      <td>103477</td>\n",
       "      <td>https://www.amazon.com/dp/0062300555</td>\n",
       "      <td>https://m.media-amazon.com/images/I/81ytGlIkLo...</td>\n",
       "      <td>...</td>\n",
       "      <td>$10.50</td>\n",
       "      <td>True</td>\n",
       "      <td>False</td>\n",
       "      <td>True</td>\n",
       "      <td>False</td>\n",
       "      <td>List:</td>\n",
       "      <td>FREE delivery Sat, Aug 17 on $35 of items ship...</td>\n",
       "      <td>False</td>\n",
       "      <td>NaN</td>\n",
       "      <td>NaN</td>\n",
       "    </tr>\n",
       "    <tr>\n",
       "      <th>19</th>\n",
       "      <td>19</td>\n",
       "      <td>B01GGU0XWC</td>\n",
       "      <td>It Ends with Us</td>\n",
       "      <td>$0.00</td>\n",
       "      <td>$20.24</td>\n",
       "      <td>USD</td>\n",
       "      <td>4.7</td>\n",
       "      <td>341005</td>\n",
       "      <td>https://www.amazon.com/dp/B01GGU0XWC</td>\n",
       "      <td>https://m.media-amazon.com/images/I/815GWEqlkO...</td>\n",
       "      <td>...</td>\n",
       "      <td>$0.00</td>\n",
       "      <td>True</td>\n",
       "      <td>False</td>\n",
       "      <td>False</td>\n",
       "      <td>False</td>\n",
       "      <td>Other formats:</td>\n",
       "      <td>Available instantly</td>\n",
       "      <td>False</td>\n",
       "      <td>NaN</td>\n",
       "      <td>NaN</td>\n",
       "    </tr>\n",
       "    <tr>\n",
       "      <th>20</th>\n",
       "      <td>20</td>\n",
       "      <td>B0C9N2L56X</td>\n",
       "      <td>The Anxious Generation: How the Great Rewiring...</td>\n",
       "      <td>$0.00</td>\n",
       "      <td>$20.25</td>\n",
       "      <td>USD</td>\n",
       "      <td>4.7</td>\n",
       "      <td>2563</td>\n",
       "      <td>https://www.amazon.com/dp/B0C9N2L56X</td>\n",
       "      <td>https://m.media-amazon.com/images/I/81N4drWaxu...</td>\n",
       "      <td>...</td>\n",
       "      <td>$0.00</td>\n",
       "      <td>True</td>\n",
       "      <td>False</td>\n",
       "      <td>False</td>\n",
       "      <td>False</td>\n",
       "      <td>Other formats:</td>\n",
       "      <td>Available instantly</td>\n",
       "      <td>False</td>\n",
       "      <td>NaN</td>\n",
       "      <td>NaN</td>\n",
       "    </tr>\n",
       "    <tr>\n",
       "      <th>21</th>\n",
       "      <td>21</td>\n",
       "      <td>B0D7ZPCB25</td>\n",
       "      <td>Teacher Simulator: School Days</td>\n",
       "      <td>$0.00</td>\n",
       "      <td>None</td>\n",
       "      <td>USD</td>\n",
       "      <td>3.2</td>\n",
       "      <td>13</td>\n",
       "      <td>https://www.amazon.com/dp/B0D7ZPCB25</td>\n",
       "      <td>https://m.media-amazon.com/images/I/51ZPA+MZGg...</td>\n",
       "      <td>...</td>\n",
       "      <td>$0.00</td>\n",
       "      <td>False</td>\n",
       "      <td>False</td>\n",
       "      <td>False</td>\n",
       "      <td>False</td>\n",
       "      <td>Jun 26, 2024</td>\n",
       "      <td>Available instantly on compatible devices</td>\n",
       "      <td>False</td>\n",
       "      <td>NaN</td>\n",
       "      <td>NaN</td>\n",
       "    </tr>\n",
       "    <tr>\n",
       "      <th>22</th>\n",
       "      <td>22</td>\n",
       "      <td>B0D1XD1ZV3</td>\n",
       "      <td>Apple AirPods Pro (2nd Generation) Wireless Ea...</td>\n",
       "      <td>$189.99</td>\n",
       "      <td>$249.00</td>\n",
       "      <td>USD</td>\n",
       "      <td>4.6</td>\n",
       "      <td>3690</td>\n",
       "      <td>https://www.amazon.com/dp/B0D1XD1ZV3</td>\n",
       "      <td>https://m.media-amazon.com/images/I/61SUj2aKoE...</td>\n",
       "      <td>...</td>\n",
       "      <td>$182.39</td>\n",
       "      <td>False</td>\n",
       "      <td>False</td>\n",
       "      <td>True</td>\n",
       "      <td>False</td>\n",
       "      <td>10K+ bought in past month</td>\n",
       "      <td>FREE delivery Sat, Aug 17 Or fastest delivery ...</td>\n",
       "      <td>False</td>\n",
       "      <td>NaN</td>\n",
       "      <td>NaN</td>\n",
       "    </tr>\n",
       "    <tr>\n",
       "      <th>23</th>\n",
       "      <td>23</td>\n",
       "      <td>B0CV4FQPY1</td>\n",
       "      <td>Bounty Select-A-Size Paper Towels, White, 8 Tr...</td>\n",
       "      <td>$22.18</td>\n",
       "      <td>None</td>\n",
       "      <td>USD</td>\n",
       "      <td>4.8</td>\n",
       "      <td>37413</td>\n",
       "      <td>https://www.amazon.com/dp/B0CV4FQPY1</td>\n",
       "      <td>https://m.media-amazon.com/images/I/81jYzN4cAd...</td>\n",
       "      <td>...</td>\n",
       "      <td>$21.96</td>\n",
       "      <td>False</td>\n",
       "      <td>False</td>\n",
       "      <td>True</td>\n",
       "      <td>False</td>\n",
       "      <td>60K+ bought in past month</td>\n",
       "      <td>FREE delivery Sat, Aug 17 on $35 of items ship...</td>\n",
       "      <td>False</td>\n",
       "      <td>$2.05</td>\n",
       "      <td>11.0</td>\n",
       "    </tr>\n",
       "    <tr>\n",
       "      <th>24</th>\n",
       "      <td>24</td>\n",
       "      <td>B0DCBZGR3M</td>\n",
       "      <td>The Best Of Bublé</td>\n",
       "      <td>$14.98</td>\n",
       "      <td>None</td>\n",
       "      <td>USD</td>\n",
       "      <td>None</td>\n",
       "      <td>0</td>\n",
       "      <td>https://www.amazon.com/dp/B0DCBZGR3M</td>\n",
       "      <td>https://m.media-amazon.com/images/I/71qTcy3jFN...</td>\n",
       "      <td>...</td>\n",
       "      <td>$14.98</td>\n",
       "      <td>False</td>\n",
       "      <td>False</td>\n",
       "      <td>True</td>\n",
       "      <td>False</td>\n",
       "      <td>Other format:</td>\n",
       "      <td>FREE delivery Tue, Oct 1 on $35 of items shipp...</td>\n",
       "      <td>False</td>\n",
       "      <td>NaN</td>\n",
       "      <td>NaN</td>\n",
       "    </tr>\n",
       "    <tr>\n",
       "      <th>25</th>\n",
       "      <td>25</td>\n",
       "      <td>B0CJ839C56</td>\n",
       "      <td>The Wedding People: A Novel</td>\n",
       "      <td>$14.99</td>\n",
       "      <td>$28.99</td>\n",
       "      <td>USD</td>\n",
       "      <td>4.4</td>\n",
       "      <td>1234</td>\n",
       "      <td>https://www.amazon.com/dp/B0CJ839C56</td>\n",
       "      <td>https://m.media-amazon.com/images/I/91hQge8Xmc...</td>\n",
       "      <td>...</td>\n",
       "      <td>$14.99</td>\n",
       "      <td>True</td>\n",
       "      <td>False</td>\n",
       "      <td>False</td>\n",
       "      <td>False</td>\n",
       "      <td>Print List Price:</td>\n",
       "      <td>Available instantly</td>\n",
       "      <td>False</td>\n",
       "      <td>NaN</td>\n",
       "      <td>NaN</td>\n",
       "    </tr>\n",
       "    <tr>\n",
       "      <th>26</th>\n",
       "      <td>26</td>\n",
       "      <td>B0CL5DFTPW</td>\n",
       "      <td>Shadow of Doubt: A Thriller (Scot Harvath Book...</td>\n",
       "      <td>$14.99</td>\n",
       "      <td>$29.99</td>\n",
       "      <td>USD</td>\n",
       "      <td>4.7</td>\n",
       "      <td>553</td>\n",
       "      <td>https://www.amazon.com/dp/B0CL5DFTPW</td>\n",
       "      <td>https://m.media-amazon.com/images/I/71kglgRQOO...</td>\n",
       "      <td>...</td>\n",
       "      <td>$14.99</td>\n",
       "      <td>True</td>\n",
       "      <td>False</td>\n",
       "      <td>False</td>\n",
       "      <td>False</td>\n",
       "      <td>Print List Price:</td>\n",
       "      <td>Available instantly</td>\n",
       "      <td>False</td>\n",
       "      <td>NaN</td>\n",
       "      <td>NaN</td>\n",
       "    </tr>\n",
       "    <tr>\n",
       "      <th>27</th>\n",
       "      <td>27</td>\n",
       "      <td>B00XZFCVK4</td>\n",
       "      <td>Max</td>\n",
       "      <td>$0.00</td>\n",
       "      <td>None</td>\n",
       "      <td>USD</td>\n",
       "      <td>4.3</td>\n",
       "      <td>384856</td>\n",
       "      <td>https://www.amazon.com/dp/B00XZFCVK4</td>\n",
       "      <td>https://m.media-amazon.com/images/I/71qqDAb2JG...</td>\n",
       "      <td>...</td>\n",
       "      <td>$0.00</td>\n",
       "      <td>False</td>\n",
       "      <td>False</td>\n",
       "      <td>False</td>\n",
       "      <td>False</td>\n",
       "      <td>Jul 16, 2015</td>\n",
       "      <td>Available instantly on compatible devices</td>\n",
       "      <td>False</td>\n",
       "      <td>NaN</td>\n",
       "      <td>NaN</td>\n",
       "    </tr>\n",
       "    <tr>\n",
       "      <th>28</th>\n",
       "      <td>28</td>\n",
       "      <td>B0DCB6G6NY</td>\n",
       "      <td>Godzilla Minus One (4K Ultra HD + Blu-ray)</td>\n",
       "      <td>$35.40</td>\n",
       "      <td>$49.98</td>\n",
       "      <td>USD</td>\n",
       "      <td>5</td>\n",
       "      <td>1</td>\n",
       "      <td>https://www.amazon.com/dp/B0DCB6G6NY</td>\n",
       "      <td>https://m.media-amazon.com/images/I/91rDyK8grk...</td>\n",
       "      <td>...</td>\n",
       "      <td>$35.40</td>\n",
       "      <td>False</td>\n",
       "      <td>False</td>\n",
       "      <td>False</td>\n",
       "      <td>False</td>\n",
       "      <td>1K+ bought in past month</td>\n",
       "      <td>FREE deliveryThis title has not yet been relea...</td>\n",
       "      <td>False</td>\n",
       "      <td>NaN</td>\n",
       "      <td>NaN</td>\n",
       "    </tr>\n",
       "    <tr>\n",
       "      <th>29</th>\n",
       "      <td>29</td>\n",
       "      <td>B0CW19X9CY</td>\n",
       "      <td>My Avatar Life City</td>\n",
       "      <td>$0.00</td>\n",
       "      <td>None</td>\n",
       "      <td>USD</td>\n",
       "      <td>2</td>\n",
       "      <td>20</td>\n",
       "      <td>https://www.amazon.com/dp/B0CW19X9CY</td>\n",
       "      <td>https://m.media-amazon.com/images/I/717MjOnKbC...</td>\n",
       "      <td>...</td>\n",
       "      <td>$0.00</td>\n",
       "      <td>False</td>\n",
       "      <td>False</td>\n",
       "      <td>False</td>\n",
       "      <td>False</td>\n",
       "      <td>May 30, 2024</td>\n",
       "      <td>Available instantly on compatible devices</td>\n",
       "      <td>False</td>\n",
       "      <td>NaN</td>\n",
       "      <td>NaN</td>\n",
       "    </tr>\n",
       "    <tr>\n",
       "      <th>30</th>\n",
       "      <td>30</td>\n",
       "      <td>1368092209</td>\n",
       "      <td>The Book of Bill (Gravity Falls)</td>\n",
       "      <td>$18.04</td>\n",
       "      <td>$26.99</td>\n",
       "      <td>USD</td>\n",
       "      <td>4.8</td>\n",
       "      <td>400</td>\n",
       "      <td>https://www.amazon.com/dp/1368092209</td>\n",
       "      <td>https://m.media-amazon.com/images/I/81O6JfipQh...</td>\n",
       "      <td>...</td>\n",
       "      <td>$18.04</td>\n",
       "      <td>True</td>\n",
       "      <td>False</td>\n",
       "      <td>False</td>\n",
       "      <td>False</td>\n",
       "      <td>List:</td>\n",
       "      <td>FREE delivery on $35 shipped by Amazon.</td>\n",
       "      <td>False</td>\n",
       "      <td>NaN</td>\n",
       "      <td>NaN</td>\n",
       "    </tr>\n",
       "    <tr>\n",
       "      <th>31</th>\n",
       "      <td>31</td>\n",
       "      <td>B0CPKXGL6Q</td>\n",
       "      <td>All the Colors of the Dark</td>\n",
       "      <td>$0.00</td>\n",
       "      <td>$22.50</td>\n",
       "      <td>USD</td>\n",
       "      <td>4.6</td>\n",
       "      <td>9144</td>\n",
       "      <td>https://www.amazon.com/dp/B0CPKXGL6Q</td>\n",
       "      <td>https://m.media-amazon.com/images/I/91oSP-pAk1...</td>\n",
       "      <td>...</td>\n",
       "      <td>$0.00</td>\n",
       "      <td>True</td>\n",
       "      <td>False</td>\n",
       "      <td>False</td>\n",
       "      <td>False</td>\n",
       "      <td>Other formats:</td>\n",
       "      <td>Available instantly</td>\n",
       "      <td>False</td>\n",
       "      <td>NaN</td>\n",
       "      <td>NaN</td>\n",
       "    </tr>\n",
       "    <tr>\n",
       "      <th>32</th>\n",
       "      <td>32</td>\n",
       "      <td>B0CTVH4W4S</td>\n",
       "      <td>Don&amp;#x27;t Forget Me</td>\n",
       "      <td>$13.98</td>\n",
       "      <td>None</td>\n",
       "      <td>USD</td>\n",
       "      <td>4.3</td>\n",
       "      <td>57</td>\n",
       "      <td>https://www.amazon.com/dp/B0CTVH4W4S</td>\n",
       "      <td>https://m.media-amazon.com/images/I/81yiAGpOtu...</td>\n",
       "      <td>...</td>\n",
       "      <td>$12.58</td>\n",
       "      <td>False</td>\n",
       "      <td>False</td>\n",
       "      <td>True</td>\n",
       "      <td>False</td>\n",
       "      <td>100+ bought in past month</td>\n",
       "      <td>FREE delivery Sat, Aug 17 on $35 of items ship...</td>\n",
       "      <td>False</td>\n",
       "      <td>NaN</td>\n",
       "      <td>NaN</td>\n",
       "    </tr>\n",
       "    <tr>\n",
       "      <th>33</th>\n",
       "      <td>33</td>\n",
       "      <td>B0D4DJ6BRR</td>\n",
       "      <td>DAYBETTER LED Strip Lights 130ft (2 Rolls of 6...</td>\n",
       "      <td>$12.99</td>\n",
       "      <td>None</td>\n",
       "      <td>USD</td>\n",
       "      <td>4.5</td>\n",
       "      <td>27805</td>\n",
       "      <td>https://www.amazon.com/dp/B0D4DJ6BRR</td>\n",
       "      <td>https://m.media-amazon.com/images/I/813vxzjiCh...</td>\n",
       "      <td>...</td>\n",
       "      <td>$12.99</td>\n",
       "      <td>False</td>\n",
       "      <td>False</td>\n",
       "      <td>True</td>\n",
       "      <td>False</td>\n",
       "      <td>10K+ bought in past month</td>\n",
       "      <td>FREE delivery Sat, Aug 17 on $35 of items ship...</td>\n",
       "      <td>False</td>\n",
       "      <td>NaN</td>\n",
       "      <td>NaN</td>\n",
       "    </tr>\n",
       "    <tr>\n",
       "      <th>34</th>\n",
       "      <td>34</td>\n",
       "      <td>B0D6RZ4ZMG</td>\n",
       "      <td>Greatest Hits</td>\n",
       "      <td>$11.59</td>\n",
       "      <td>None</td>\n",
       "      <td>USD</td>\n",
       "      <td>5</td>\n",
       "      <td>1</td>\n",
       "      <td>https://www.amazon.com/dp/B0D6RZ4ZMG</td>\n",
       "      <td>https://m.media-amazon.com/images/I/51Di+bwy2O...</td>\n",
       "      <td>...</td>\n",
       "      <td>$11.59</td>\n",
       "      <td>False</td>\n",
       "      <td>False</td>\n",
       "      <td>True</td>\n",
       "      <td>False</td>\n",
       "      <td>900+ bought in past month</td>\n",
       "      <td>FREE delivery Sat, Aug 17 on $35 of items ship...</td>\n",
       "      <td>False</td>\n",
       "      <td>NaN</td>\n",
       "      <td>NaN</td>\n",
       "    </tr>\n",
       "    <tr>\n",
       "      <th>35</th>\n",
       "      <td>35</td>\n",
       "      <td>B07Y8SJGCV</td>\n",
       "      <td>Disney+</td>\n",
       "      <td>$0.00</td>\n",
       "      <td>None</td>\n",
       "      <td>USD</td>\n",
       "      <td>4.4</td>\n",
       "      <td>1015587</td>\n",
       "      <td>https://www.amazon.com/dp/B07Y8SJGCV</td>\n",
       "      <td>https://m.media-amazon.com/images/I/719t3jd2Ne...</td>\n",
       "      <td>...</td>\n",
       "      <td>$0.00</td>\n",
       "      <td>False</td>\n",
       "      <td>False</td>\n",
       "      <td>False</td>\n",
       "      <td>False</td>\n",
       "      <td>Oct 11, 2019</td>\n",
       "      <td>Available instantly on compatible devices</td>\n",
       "      <td>False</td>\n",
       "      <td>NaN</td>\n",
       "      <td>NaN</td>\n",
       "    </tr>\n",
       "    <tr>\n",
       "      <th>36</th>\n",
       "      <td>36</td>\n",
       "      <td>B0D5TTXF8H</td>\n",
       "      <td>ALL IN: Unreleased &amp;amp; Rarities (The New Wes...</td>\n",
       "      <td>$14.99</td>\n",
       "      <td>None</td>\n",
       "      <td>USD</td>\n",
       "      <td>None</td>\n",
       "      <td>0</td>\n",
       "      <td>https://www.amazon.com/dp/B0D5TTXF8H</td>\n",
       "      <td>https://m.media-amazon.com/images/I/61i0Svrizm...</td>\n",
       "      <td>...</td>\n",
       "      <td>$13.25</td>\n",
       "      <td>False</td>\n",
       "      <td>False</td>\n",
       "      <td>True</td>\n",
       "      <td>False</td>\n",
       "      <td>100+ bought in past month</td>\n",
       "      <td>FREE delivery Sat, Aug 17 on $35 of items ship...</td>\n",
       "      <td>False</td>\n",
       "      <td>NaN</td>\n",
       "      <td>NaN</td>\n",
       "    </tr>\n",
       "    <tr>\n",
       "      <th>37</th>\n",
       "      <td>37</td>\n",
       "      <td>B0DCDTR9X8</td>\n",
       "      <td>No Name</td>\n",
       "      <td>$25.98</td>\n",
       "      <td>None</td>\n",
       "      <td>USD</td>\n",
       "      <td>None</td>\n",
       "      <td>0</td>\n",
       "      <td>https://www.amazon.com/dp/B0DCDTR9X8</td>\n",
       "      <td>https://m.media-amazon.com/images/I/81KWcTTA0K...</td>\n",
       "      <td>...</td>\n",
       "      <td>$25.98</td>\n",
       "      <td>False</td>\n",
       "      <td>False</td>\n",
       "      <td>True</td>\n",
       "      <td>False</td>\n",
       "      <td>300+ bought in past month</td>\n",
       "      <td>FREE delivery Tue, Sep 17 on $35 of items ship...</td>\n",
       "      <td>False</td>\n",
       "      <td>NaN</td>\n",
       "      <td>NaN</td>\n",
       "    </tr>\n",
       "    <tr>\n",
       "      <th>38</th>\n",
       "      <td>38</td>\n",
       "      <td>B0CMQHN9Q8</td>\n",
       "      <td>Thief Puzzle: to pass a level</td>\n",
       "      <td>$0.00</td>\n",
       "      <td>None</td>\n",
       "      <td>USD</td>\n",
       "      <td>3.5</td>\n",
       "      <td>41</td>\n",
       "      <td>https://www.amazon.com/dp/B0CMQHN9Q8</td>\n",
       "      <td>https://m.media-amazon.com/images/I/71HhHaj4Ok...</td>\n",
       "      <td>...</td>\n",
       "      <td>$0.00</td>\n",
       "      <td>False</td>\n",
       "      <td>False</td>\n",
       "      <td>False</td>\n",
       "      <td>False</td>\n",
       "      <td>Nov 9, 2023</td>\n",
       "      <td>Available instantly on compatible devices</td>\n",
       "      <td>False</td>\n",
       "      <td>NaN</td>\n",
       "      <td>NaN</td>\n",
       "    </tr>\n",
       "    <tr>\n",
       "      <th>39</th>\n",
       "      <td>39</td>\n",
       "      <td>B0DCPBNYX5</td>\n",
       "      <td>Make Them Suffer</td>\n",
       "      <td>$26.98</td>\n",
       "      <td>None</td>\n",
       "      <td>USD</td>\n",
       "      <td>None</td>\n",
       "      <td>0</td>\n",
       "      <td>https://www.amazon.com/dp/B0DCPBNYX5</td>\n",
       "      <td>https://m.media-amazon.com/images/I/71Ds6EhtfV...</td>\n",
       "      <td>...</td>\n",
       "      <td>$26.98</td>\n",
       "      <td>False</td>\n",
       "      <td>False</td>\n",
       "      <td>True</td>\n",
       "      <td>False</td>\n",
       "      <td>Other formats:</td>\n",
       "      <td>FREE delivery Tue, Nov 12 on $35 of items ship...</td>\n",
       "      <td>False</td>\n",
       "      <td>NaN</td>\n",
       "      <td>NaN</td>\n",
       "    </tr>\n",
       "    <tr>\n",
       "      <th>40</th>\n",
       "      <td>40</td>\n",
       "      <td>B0CLH8D891</td>\n",
       "      <td>The God of the Woods: A Novel</td>\n",
       "      <td>$0.00</td>\n",
       "      <td>$22.50</td>\n",
       "      <td>USD</td>\n",
       "      <td>4.5</td>\n",
       "      <td>5470</td>\n",
       "      <td>https://www.amazon.com/dp/B0CLH8D891</td>\n",
       "      <td>https://m.media-amazon.com/images/I/91WvkZFZq9...</td>\n",
       "      <td>...</td>\n",
       "      <td>$0.00</td>\n",
       "      <td>True</td>\n",
       "      <td>False</td>\n",
       "      <td>False</td>\n",
       "      <td>False</td>\n",
       "      <td>Other formats:</td>\n",
       "      <td>Available instantly</td>\n",
       "      <td>False</td>\n",
       "      <td>NaN</td>\n",
       "      <td>NaN</td>\n",
       "    </tr>\n",
       "    <tr>\n",
       "      <th>41</th>\n",
       "      <td>41</td>\n",
       "      <td>B005ZXWMUS</td>\n",
       "      <td>Netflix</td>\n",
       "      <td>$0.00</td>\n",
       "      <td>None</td>\n",
       "      <td>USD</td>\n",
       "      <td>4.6</td>\n",
       "      <td>447829</td>\n",
       "      <td>https://www.amazon.com/dp/B005ZXWMUS</td>\n",
       "      <td>https://m.media-amazon.com/images/I/41Ix1vMUK7...</td>\n",
       "      <td>...</td>\n",
       "      <td>$0.00</td>\n",
       "      <td>False</td>\n",
       "      <td>False</td>\n",
       "      <td>False</td>\n",
       "      <td>False</td>\n",
       "      <td>Oct 27, 2011</td>\n",
       "      <td>Available instantly on compatible devices</td>\n",
       "      <td>False</td>\n",
       "      <td>NaN</td>\n",
       "      <td>NaN</td>\n",
       "    </tr>\n",
       "    <tr>\n",
       "      <th>42</th>\n",
       "      <td>42</td>\n",
       "      <td>B00OZP5VRS</td>\n",
       "      <td>A Court of Thorns and Roses</td>\n",
       "      <td>$8.21</td>\n",
       "      <td>$15.20</td>\n",
       "      <td>USD</td>\n",
       "      <td>4.6</td>\n",
       "      <td>225392</td>\n",
       "      <td>https://www.amazon.com/dp/B00OZP5VRS</td>\n",
       "      <td>https://m.media-amazon.com/images/I/81A-T+X6uk...</td>\n",
       "      <td>...</td>\n",
       "      <td>$8.21</td>\n",
       "      <td>False</td>\n",
       "      <td>False</td>\n",
       "      <td>False</td>\n",
       "      <td>False</td>\n",
       "      <td>Digital List Price:</td>\n",
       "      <td>Available instantly</td>\n",
       "      <td>False</td>\n",
       "      <td>NaN</td>\n",
       "      <td>NaN</td>\n",
       "    </tr>\n",
       "    <tr>\n",
       "      <th>43</th>\n",
       "      <td>43</td>\n",
       "      <td>B0117U0G3M</td>\n",
       "      <td>TikTok</td>\n",
       "      <td>$0.00</td>\n",
       "      <td>None</td>\n",
       "      <td>USD</td>\n",
       "      <td>4.2</td>\n",
       "      <td>140615</td>\n",
       "      <td>https://www.amazon.com/dp/B0117U0G3M</td>\n",
       "      <td>https://m.media-amazon.com/images/I/41b3zsiq4p...</td>\n",
       "      <td>...</td>\n",
       "      <td>$0.00</td>\n",
       "      <td>False</td>\n",
       "      <td>False</td>\n",
       "      <td>False</td>\n",
       "      <td>False</td>\n",
       "      <td>Jul 8, 2015</td>\n",
       "      <td>Available instantly on compatible devices</td>\n",
       "      <td>False</td>\n",
       "      <td>NaN</td>\n",
       "      <td>NaN</td>\n",
       "    </tr>\n",
       "    <tr>\n",
       "      <th>44</th>\n",
       "      <td>44</td>\n",
       "      <td>B0DB77GWFH</td>\n",
       "      <td>Zodiac [4K UHD + Blu-Ray + Digital Copy]</td>\n",
       "      <td>$24.49</td>\n",
       "      <td>$25.99</td>\n",
       "      <td>USD</td>\n",
       "      <td>4.8</td>\n",
       "      <td>1558</td>\n",
       "      <td>https://www.amazon.com/dp/B0DB77GWFH</td>\n",
       "      <td>https://m.media-amazon.com/images/I/51dJEpB2pN...</td>\n",
       "      <td>...</td>\n",
       "      <td>$24.49</td>\n",
       "      <td>True</td>\n",
       "      <td>False</td>\n",
       "      <td>True</td>\n",
       "      <td>False</td>\n",
       "      <td>2K+ bought in past month</td>\n",
       "      <td>FREE delivery Mon, Nov 4 on $35 of items shipp...</td>\n",
       "      <td>False</td>\n",
       "      <td>NaN</td>\n",
       "      <td>NaN</td>\n",
       "    </tr>\n",
       "    <tr>\n",
       "      <th>45</th>\n",
       "      <td>45</td>\n",
       "      <td>B0BZFHK12K</td>\n",
       "      <td>Bluey: Let&amp;#x27;s Play!</td>\n",
       "      <td>$0.00</td>\n",
       "      <td>None</td>\n",
       "      <td>USD</td>\n",
       "      <td>3.4</td>\n",
       "      <td>280</td>\n",
       "      <td>https://www.amazon.com/dp/B0BZFHK12K</td>\n",
       "      <td>https://m.media-amazon.com/images/I/61LzPWFPO6...</td>\n",
       "      <td>...</td>\n",
       "      <td>$0.00</td>\n",
       "      <td>False</td>\n",
       "      <td>False</td>\n",
       "      <td>False</td>\n",
       "      <td>False</td>\n",
       "      <td>Jul 7, 2023</td>\n",
       "      <td>Available instantly on compatible devices</td>\n",
       "      <td>False</td>\n",
       "      <td>NaN</td>\n",
       "      <td>NaN</td>\n",
       "    </tr>\n",
       "    <tr>\n",
       "      <th>46</th>\n",
       "      <td>46</td>\n",
       "      <td>B0DB8SGRW8</td>\n",
       "      <td>Nightmare On Elm Street, A (Theatrical &amp;amp; U...</td>\n",
       "      <td>$36.49</td>\n",
       "      <td>None</td>\n",
       "      <td>USD</td>\n",
       "      <td>4.6</td>\n",
       "      <td>14095</td>\n",
       "      <td>https://www.amazon.com/dp/B0DB8SGRW8</td>\n",
       "      <td>https://m.media-amazon.com/images/I/81dSU9tlRh...</td>\n",
       "      <td>...</td>\n",
       "      <td>$36.49</td>\n",
       "      <td>True</td>\n",
       "      <td>False</td>\n",
       "      <td>True</td>\n",
       "      <td>False</td>\n",
       "      <td>3K+ bought in past month</td>\n",
       "      <td>FREE delivery Mon, Oct 7 Or fastest delivery T...</td>\n",
       "      <td>False</td>\n",
       "      <td>NaN</td>\n",
       "      <td>NaN</td>\n",
       "    </tr>\n",
       "    <tr>\n",
       "      <th>47</th>\n",
       "      <td>47</td>\n",
       "      <td>B0DBTS77B1</td>\n",
       "      <td>Live from the Ryman, Vol. 2</td>\n",
       "      <td>$16.98</td>\n",
       "      <td>None</td>\n",
       "      <td>USD</td>\n",
       "      <td>None</td>\n",
       "      <td>0</td>\n",
       "      <td>https://www.amazon.com/dp/B0DBTS77B1</td>\n",
       "      <td>https://m.media-amazon.com/images/I/61TQo7kMsN...</td>\n",
       "      <td>...</td>\n",
       "      <td>$16.98</td>\n",
       "      <td>False</td>\n",
       "      <td>False</td>\n",
       "      <td>True</td>\n",
       "      <td>False</td>\n",
       "      <td>Other format:</td>\n",
       "      <td>FREE delivery Tue, Oct 8 on $35 of items shipp...</td>\n",
       "      <td>False</td>\n",
       "      <td>NaN</td>\n",
       "      <td>NaN</td>\n",
       "    </tr>\n",
       "  </tbody>\n",
       "</table>\n",
       "<p>48 rows × 21 columns</p>\n",
       "</div>"
      ],
      "text/plain": [
       "    index        asin                                      product_title  \\\n",
       "0       0  B0CWXNS552                                       Apple AirTag   \n",
       "1       1  B0D54JZTHY                                Apple AirTag 4 pack   \n",
       "2       2  B0CRCWCGNW  Amazon Basics Purple Washable School Glue Stic...   \n",
       "3       3  B0CRDYZVDC  Amazon Basics Heavy Duty Plastic Folders with ...   \n",
       "4       4  B0CRB1VZ46  Amazon Basics Multipurpose, Comfort Grip, PVD ...   \n",
       "5       5  1668048043  The Art of Power: My Story as America&#x27;s F...   \n",
       "6       6  1649374186  Onyx Storm (Deluxe Limited Edition) (The Empyr...   \n",
       "7       7  B0CVLHTFDS                   Natural Selection: A Short Story   \n",
       "8       8  B0DBMMFGWJ  Dr. Seuss&#x27; How the Grinch Stole Christmas...   \n",
       "9       9  B0CRDWCGBG  Amazon Basics 3-Ring Binder, 1-Inch - White 1 ...   \n",
       "10     10  B0DCKFWW1V  FINAL FANTASY I-VI Collection Anniversary Edit...   \n",
       "11     11  B0DCG8Z9W6  American Idiot 20th Anniversary Red &amp; Blac...   \n",
       "12     12  B0D7FVQ1ZB  Apple EarPods Headphones with Lightning Connec...   \n",
       "13     13  B0DCKFZ1V6  FINAL FANTASY I-VI Collection Anniversary Edit...   \n",
       "14     14  B0D8N3B4HC     Borderlands 4K Digital Amazon Steelbook 4K UHD   \n",
       "15     15  B07RFSSYBH  Atomic Habits: An Easy &amp; Proven Way to Bui...   \n",
       "16     16  B0D5FZGY8W  URO Vaginal Probiotics for Women pH Balance wi...   \n",
       "17     17  B0CRDXKKVY      Amazon Basics Pencil Box, 1-Pack, Blue, Solid   \n",
       "18     18  0062300555  Hillbilly Elegy: A Memoir of a Family and Cult...   \n",
       "19     19  B01GGU0XWC                                    It Ends with Us   \n",
       "20     20  B0C9N2L56X  The Anxious Generation: How the Great Rewiring...   \n",
       "21     21  B0D7ZPCB25                     Teacher Simulator: School Days   \n",
       "22     22  B0D1XD1ZV3  Apple AirPods Pro (2nd Generation) Wireless Ea...   \n",
       "23     23  B0CV4FQPY1  Bounty Select-A-Size Paper Towels, White, 8 Tr...   \n",
       "24     24  B0DCBZGR3M                                  The Best Of Bublé   \n",
       "25     25  B0CJ839C56                        The Wedding People: A Novel   \n",
       "26     26  B0CL5DFTPW  Shadow of Doubt: A Thriller (Scot Harvath Book...   \n",
       "27     27  B00XZFCVK4                                                Max   \n",
       "28     28  B0DCB6G6NY         Godzilla Minus One (4K Ultra HD + Blu-ray)   \n",
       "29     29  B0CW19X9CY                                My Avatar Life City   \n",
       "30     30  1368092209                   The Book of Bill (Gravity Falls)   \n",
       "31     31  B0CPKXGL6Q                         All the Colors of the Dark   \n",
       "32     32  B0CTVH4W4S                               Don&#x27;t Forget Me   \n",
       "33     33  B0D4DJ6BRR  DAYBETTER LED Strip Lights 130ft (2 Rolls of 6...   \n",
       "34     34  B0D6RZ4ZMG                                      Greatest Hits   \n",
       "35     35  B07Y8SJGCV                                            Disney+   \n",
       "36     36  B0D5TTXF8H  ALL IN: Unreleased &amp; Rarities (The New Wes...   \n",
       "37     37  B0DCDTR9X8                                            No Name   \n",
       "38     38  B0CMQHN9Q8                      Thief Puzzle: to pass a level   \n",
       "39     39  B0DCPBNYX5                                   Make Them Suffer   \n",
       "40     40  B0CLH8D891                      The God of the Woods: A Novel   \n",
       "41     41  B005ZXWMUS                                            Netflix   \n",
       "42     42  B00OZP5VRS                        A Court of Thorns and Roses   \n",
       "43     43  B0117U0G3M                                             TikTok   \n",
       "44     44  B0DB77GWFH           Zodiac [4K UHD + Blu-Ray + Digital Copy]   \n",
       "45     45  B0BZFHK12K                            Bluey: Let&#x27;s Play!   \n",
       "46     46  B0DB8SGRW8  Nightmare On Elm Street, A (Theatrical &amp; U...   \n",
       "47     47  B0DBTS77B1                        Live from the Ryman, Vol. 2   \n",
       "\n",
       "   product_price product_original_price currency product_star_rating  \\\n",
       "0         $24.99                 $29.00      USD                 4.6   \n",
       "1         $72.99                 $99.00      USD                 4.7   \n",
       "2          $0.25                   None      USD                 4.7   \n",
       "3          $0.49                   None      USD                 4.8   \n",
       "4          $2.39                   None      USD                 4.8   \n",
       "5         $20.04                 $30.00      USD                 4.3   \n",
       "6         $19.78                 $32.99      USD                None   \n",
       "7          $1.99                   None      USD                   4   \n",
       "8         $33.99                   None      USD                 4.8   \n",
       "9          $2.50                   None      USD                 4.7   \n",
       "10        $74.99                   None      USD                None   \n",
       "11        $39.98                   None      USD                 4.8   \n",
       "12        $19.99                   None      USD                 4.7   \n",
       "13        $74.99                   None      USD                None   \n",
       "14        $34.99                   None      USD                None   \n",
       "15         $0.00                 $18.00      USD                 4.8   \n",
       "16        $28.79                 $31.99      USD                 4.5   \n",
       "17         $1.99                   None      USD                 4.2   \n",
       "18        $11.53                 $18.99      USD                 4.4   \n",
       "19         $0.00                 $20.24      USD                 4.7   \n",
       "20         $0.00                 $20.25      USD                 4.7   \n",
       "21         $0.00                   None      USD                 3.2   \n",
       "22       $189.99                $249.00      USD                 4.6   \n",
       "23        $22.18                   None      USD                 4.8   \n",
       "24        $14.98                   None      USD                None   \n",
       "25        $14.99                 $28.99      USD                 4.4   \n",
       "26        $14.99                 $29.99      USD                 4.7   \n",
       "27         $0.00                   None      USD                 4.3   \n",
       "28        $35.40                 $49.98      USD                   5   \n",
       "29         $0.00                   None      USD                   2   \n",
       "30        $18.04                 $26.99      USD                 4.8   \n",
       "31         $0.00                 $22.50      USD                 4.6   \n",
       "32        $13.98                   None      USD                 4.3   \n",
       "33        $12.99                   None      USD                 4.5   \n",
       "34        $11.59                   None      USD                   5   \n",
       "35         $0.00                   None      USD                 4.4   \n",
       "36        $14.99                   None      USD                None   \n",
       "37        $25.98                   None      USD                None   \n",
       "38         $0.00                   None      USD                 3.5   \n",
       "39        $26.98                   None      USD                None   \n",
       "40         $0.00                 $22.50      USD                 4.5   \n",
       "41         $0.00                   None      USD                 4.6   \n",
       "42         $8.21                 $15.20      USD                 4.6   \n",
       "43         $0.00                   None      USD                 4.2   \n",
       "44        $24.49                 $25.99      USD                 4.8   \n",
       "45         $0.00                   None      USD                 3.4   \n",
       "46        $36.49                   None      USD                 4.6   \n",
       "47        $16.98                   None      USD                None   \n",
       "\n",
       "    product_num_ratings                           product_url  \\\n",
       "0                  5423  https://www.amazon.com/dp/B0CWXNS552   \n",
       "1                   801  https://www.amazon.com/dp/B0D54JZTHY   \n",
       "2                  8103  https://www.amazon.com/dp/B0CRCWCGNW   \n",
       "3                 13759  https://www.amazon.com/dp/B0CRDYZVDC   \n",
       "4                 55088  https://www.amazon.com/dp/B0CRB1VZ46   \n",
       "5                    66  https://www.amazon.com/dp/1668048043   \n",
       "6                     0  https://www.amazon.com/dp/1649374186   \n",
       "7                  6898  https://www.amazon.com/dp/B0CVLHTFDS   \n",
       "8                 31650  https://www.amazon.com/dp/B0DBMMFGWJ   \n",
       "9                 17618  https://www.amazon.com/dp/B0CRDWCGBG   \n",
       "10                    0  https://www.amazon.com/dp/B0DCKFWW1V   \n",
       "11                  306  https://www.amazon.com/dp/B0DCG8Z9W6   \n",
       "12                 4048  https://www.amazon.com/dp/B0D7FVQ1ZB   \n",
       "13                    0  https://www.amazon.com/dp/B0DCKFZ1V6   \n",
       "14                    0  https://www.amazon.com/dp/B0D8N3B4HC   \n",
       "15               130852  https://www.amazon.com/dp/B07RFSSYBH   \n",
       "16                 1564  https://www.amazon.com/dp/B0D5FZGY8W   \n",
       "17                 2753  https://www.amazon.com/dp/B0CRDXKKVY   \n",
       "18               103477  https://www.amazon.com/dp/0062300555   \n",
       "19               341005  https://www.amazon.com/dp/B01GGU0XWC   \n",
       "20                 2563  https://www.amazon.com/dp/B0C9N2L56X   \n",
       "21                   13  https://www.amazon.com/dp/B0D7ZPCB25   \n",
       "22                 3690  https://www.amazon.com/dp/B0D1XD1ZV3   \n",
       "23                37413  https://www.amazon.com/dp/B0CV4FQPY1   \n",
       "24                    0  https://www.amazon.com/dp/B0DCBZGR3M   \n",
       "25                 1234  https://www.amazon.com/dp/B0CJ839C56   \n",
       "26                  553  https://www.amazon.com/dp/B0CL5DFTPW   \n",
       "27               384856  https://www.amazon.com/dp/B00XZFCVK4   \n",
       "28                    1  https://www.amazon.com/dp/B0DCB6G6NY   \n",
       "29                   20  https://www.amazon.com/dp/B0CW19X9CY   \n",
       "30                  400  https://www.amazon.com/dp/1368092209   \n",
       "31                 9144  https://www.amazon.com/dp/B0CPKXGL6Q   \n",
       "32                   57  https://www.amazon.com/dp/B0CTVH4W4S   \n",
       "33                27805  https://www.amazon.com/dp/B0D4DJ6BRR   \n",
       "34                    1  https://www.amazon.com/dp/B0D6RZ4ZMG   \n",
       "35              1015587  https://www.amazon.com/dp/B07Y8SJGCV   \n",
       "36                    0  https://www.amazon.com/dp/B0D5TTXF8H   \n",
       "37                    0  https://www.amazon.com/dp/B0DCDTR9X8   \n",
       "38                   41  https://www.amazon.com/dp/B0CMQHN9Q8   \n",
       "39                    0  https://www.amazon.com/dp/B0DCPBNYX5   \n",
       "40                 5470  https://www.amazon.com/dp/B0CLH8D891   \n",
       "41               447829  https://www.amazon.com/dp/B005ZXWMUS   \n",
       "42               225392  https://www.amazon.com/dp/B00OZP5VRS   \n",
       "43               140615  https://www.amazon.com/dp/B0117U0G3M   \n",
       "44                 1558  https://www.amazon.com/dp/B0DB77GWFH   \n",
       "45                  280  https://www.amazon.com/dp/B0BZFHK12K   \n",
       "46                14095  https://www.amazon.com/dp/B0DB8SGRW8   \n",
       "47                    0  https://www.amazon.com/dp/B0DBTS77B1   \n",
       "\n",
       "                                        product_photo  ...  \\\n",
       "0   https://m.media-amazon.com/images/I/71rP7f78eF...  ...   \n",
       "1   https://m.media-amazon.com/images/I/61bMNCeAUA...  ...   \n",
       "2   https://m.media-amazon.com/images/I/713QRmQtrc...  ...   \n",
       "3   https://m.media-amazon.com/images/I/61aub4rRv9...  ...   \n",
       "4   https://m.media-amazon.com/images/I/51XUXWgWF8...  ...   \n",
       "5   https://m.media-amazon.com/images/I/81pkG+yMwr...  ...   \n",
       "6   https://m.media-amazon.com/images/I/9101MLPcFT...  ...   \n",
       "7   https://m.media-amazon.com/images/I/81rMfFTVmY...  ...   \n",
       "8   https://m.media-amazon.com/images/I/71awDHU4h4...  ...   \n",
       "9   https://m.media-amazon.com/images/I/514-XVfxdJ...  ...   \n",
       "10  https://m.media-amazon.com/images/I/71QWO4tJLo...  ...   \n",
       "11  https://m.media-amazon.com/images/I/81uv6oFiiE...  ...   \n",
       "12  https://m.media-amazon.com/images/I/317eB4+yU6...  ...   \n",
       "13  https://m.media-amazon.com/images/I/71MNXiXewn...  ...   \n",
       "14  https://m.media-amazon.com/images/I/81yndbRVDP...  ...   \n",
       "15  https://m.media-amazon.com/images/I/71F4+7rk2e...  ...   \n",
       "16  https://m.media-amazon.com/images/I/61tYAHJi3L...  ...   \n",
       "17  https://m.media-amazon.com/images/I/7184gKknb1...  ...   \n",
       "18  https://m.media-amazon.com/images/I/81ytGlIkLo...  ...   \n",
       "19  https://m.media-amazon.com/images/I/815GWEqlkO...  ...   \n",
       "20  https://m.media-amazon.com/images/I/81N4drWaxu...  ...   \n",
       "21  https://m.media-amazon.com/images/I/51ZPA+MZGg...  ...   \n",
       "22  https://m.media-amazon.com/images/I/61SUj2aKoE...  ...   \n",
       "23  https://m.media-amazon.com/images/I/81jYzN4cAd...  ...   \n",
       "24  https://m.media-amazon.com/images/I/71qTcy3jFN...  ...   \n",
       "25  https://m.media-amazon.com/images/I/91hQge8Xmc...  ...   \n",
       "26  https://m.media-amazon.com/images/I/71kglgRQOO...  ...   \n",
       "27  https://m.media-amazon.com/images/I/71qqDAb2JG...  ...   \n",
       "28  https://m.media-amazon.com/images/I/91rDyK8grk...  ...   \n",
       "29  https://m.media-amazon.com/images/I/717MjOnKbC...  ...   \n",
       "30  https://m.media-amazon.com/images/I/81O6JfipQh...  ...   \n",
       "31  https://m.media-amazon.com/images/I/91oSP-pAk1...  ...   \n",
       "32  https://m.media-amazon.com/images/I/81yiAGpOtu...  ...   \n",
       "33  https://m.media-amazon.com/images/I/813vxzjiCh...  ...   \n",
       "34  https://m.media-amazon.com/images/I/51Di+bwy2O...  ...   \n",
       "35  https://m.media-amazon.com/images/I/719t3jd2Ne...  ...   \n",
       "36  https://m.media-amazon.com/images/I/61i0Svrizm...  ...   \n",
       "37  https://m.media-amazon.com/images/I/81KWcTTA0K...  ...   \n",
       "38  https://m.media-amazon.com/images/I/71HhHaj4Ok...  ...   \n",
       "39  https://m.media-amazon.com/images/I/71Ds6EhtfV...  ...   \n",
       "40  https://m.media-amazon.com/images/I/91WvkZFZq9...  ...   \n",
       "41  https://m.media-amazon.com/images/I/41Ix1vMUK7...  ...   \n",
       "42  https://m.media-amazon.com/images/I/81A-T+X6uk...  ...   \n",
       "43  https://m.media-amazon.com/images/I/41b3zsiq4p...  ...   \n",
       "44  https://m.media-amazon.com/images/I/51dJEpB2pN...  ...   \n",
       "45  https://m.media-amazon.com/images/I/61LzPWFPO6...  ...   \n",
       "46  https://m.media-amazon.com/images/I/81dSU9tlRh...  ...   \n",
       "47  https://m.media-amazon.com/images/I/61TQo7kMsN...  ...   \n",
       "\n",
       "    product_minimum_offer_price is_best_seller  is_amazon_choice  is_prime  \\\n",
       "0                        $21.49          False              True      True   \n",
       "1                        $72.26          False             False      True   \n",
       "2                         $0.25          False             False      True   \n",
       "3                         $0.49           True             False      True   \n",
       "4                         $2.39           True             False      True   \n",
       "5                        $20.04          False             False      True   \n",
       "6                        $19.78          False             False     False   \n",
       "7                         $1.99           True             False     False   \n",
       "8                        $33.99          False             False      True   \n",
       "9                         $2.50           True             False      True   \n",
       "10                       $74.99           True             False     False   \n",
       "11                       $39.98          False             False      True   \n",
       "12                       $19.19          False             False      True   \n",
       "13                       $74.99           True             False     False   \n",
       "14                       $34.99          False             False     False   \n",
       "15                        $0.00           True             False     False   \n",
       "16                       $28.79           True             False      True   \n",
       "17                        $1.99           True             False      True   \n",
       "18                       $10.50           True             False      True   \n",
       "19                        $0.00           True             False     False   \n",
       "20                        $0.00           True             False     False   \n",
       "21                        $0.00          False             False     False   \n",
       "22                      $182.39          False             False      True   \n",
       "23                       $21.96          False             False      True   \n",
       "24                       $14.98          False             False      True   \n",
       "25                       $14.99           True             False     False   \n",
       "26                       $14.99           True             False     False   \n",
       "27                        $0.00          False             False     False   \n",
       "28                       $35.40          False             False     False   \n",
       "29                        $0.00          False             False     False   \n",
       "30                       $18.04           True             False     False   \n",
       "31                        $0.00           True             False     False   \n",
       "32                       $12.58          False             False      True   \n",
       "33                       $12.99          False             False      True   \n",
       "34                       $11.59          False             False      True   \n",
       "35                        $0.00          False             False     False   \n",
       "36                       $13.25          False             False      True   \n",
       "37                       $25.98          False             False      True   \n",
       "38                        $0.00          False             False     False   \n",
       "39                       $26.98          False             False      True   \n",
       "40                        $0.00           True             False     False   \n",
       "41                        $0.00          False             False     False   \n",
       "42                        $8.21          False             False     False   \n",
       "43                        $0.00          False             False     False   \n",
       "44                       $24.49           True             False      True   \n",
       "45                        $0.00          False             False     False   \n",
       "46                       $36.49           True             False      True   \n",
       "47                       $16.98          False             False      True   \n",
       "\n",
       "    climate_pledge_friendly                sales_volume  \\\n",
       "0                     False   10K+ bought in past month   \n",
       "1                     False   10K+ bought in past month   \n",
       "2                     False   50K+ bought in past month   \n",
       "3                     False   80K+ bought in past month   \n",
       "4                     False   40K+ bought in past month   \n",
       "5                     False                      List:    \n",
       "6                     False                      List:    \n",
       "7                     False              Other format:    \n",
       "8                     False   400+ bought in past month   \n",
       "9                     False   50K+ bought in past month   \n",
       "10                    False                 Oct 8, 2024   \n",
       "11                    False             Other formats:    \n",
       "12                    False   10K+ bought in past month   \n",
       "13                    False                 Oct 8, 2024   \n",
       "14                    False    1K+ bought in past month   \n",
       "15                    False             Other formats:    \n",
       "16                    False  100K+ bought in past month   \n",
       "17                    False   20K+ bought in past month   \n",
       "18                    False                      List:    \n",
       "19                    False             Other formats:    \n",
       "20                    False             Other formats:    \n",
       "21                    False                Jun 26, 2024   \n",
       "22                    False   10K+ bought in past month   \n",
       "23                    False   60K+ bought in past month   \n",
       "24                    False              Other format:    \n",
       "25                    False          Print List Price:    \n",
       "26                    False          Print List Price:    \n",
       "27                    False                Jul 16, 2015   \n",
       "28                    False    1K+ bought in past month   \n",
       "29                    False                May 30, 2024   \n",
       "30                    False                      List:    \n",
       "31                    False             Other formats:    \n",
       "32                    False   100+ bought in past month   \n",
       "33                    False   10K+ bought in past month   \n",
       "34                    False   900+ bought in past month   \n",
       "35                    False                Oct 11, 2019   \n",
       "36                    False   100+ bought in past month   \n",
       "37                    False   300+ bought in past month   \n",
       "38                    False                 Nov 9, 2023   \n",
       "39                    False             Other formats:    \n",
       "40                    False             Other formats:    \n",
       "41                    False                Oct 27, 2011   \n",
       "42                    False        Digital List Price:    \n",
       "43                    False                 Jul 8, 2015   \n",
       "44                    False    2K+ bought in past month   \n",
       "45                    False                 Jul 7, 2023   \n",
       "46                    False    3K+ bought in past month   \n",
       "47                    False              Other format:    \n",
       "\n",
       "                                             delivery has_variations  \\\n",
       "0   FREE delivery Sat, Aug 17 on $35 of items ship...          False   \n",
       "1   FREE delivery Sat, Aug 17 Or fastest delivery ...          False   \n",
       "2   FREE delivery Sat, Aug 17 on $35 of items ship...          False   \n",
       "3   FREE delivery Sat, Aug 17 on $35 of items ship...          False   \n",
       "4   FREE delivery Sat, Aug 17 on $35 of items ship...          False   \n",
       "5   FREE delivery Sat, Aug 17 on $35 of items ship...          False   \n",
       "6   FREE delivery on $35 shipped by Amazon.This ti...          False   \n",
       "7   This title will be released on September 1, 2024.          False   \n",
       "8   FREE delivery Mon, Nov 4 on $35 of items shipp...          False   \n",
       "9   FREE delivery Sat, Aug 17 on $35 of items ship...          False   \n",
       "10  FREE deliveryThis item will be released on Oct...          False   \n",
       "11  FREE delivery Tue, Oct 29 Or fastest delivery ...          False   \n",
       "12  FREE delivery Sat, Aug 17 on $35 of items ship...          False   \n",
       "13  FREE deliveryThis item will be released on Oct...          False   \n",
       "14  FREE delivery on $35 shipped by Amazon.This ti...          False   \n",
       "15                                Available instantly          False   \n",
       "16  FREE delivery Sat, Aug 17 on $35 of items ship...          False   \n",
       "17  FREE delivery Sat, Aug 17 on $35 of items ship...          False   \n",
       "18  FREE delivery Sat, Aug 17 on $35 of items ship...          False   \n",
       "19                                Available instantly          False   \n",
       "20                                Available instantly          False   \n",
       "21          Available instantly on compatible devices          False   \n",
       "22  FREE delivery Sat, Aug 17 Or fastest delivery ...          False   \n",
       "23  FREE delivery Sat, Aug 17 on $35 of items ship...          False   \n",
       "24  FREE delivery Tue, Oct 1 on $35 of items shipp...          False   \n",
       "25                                Available instantly          False   \n",
       "26                                Available instantly          False   \n",
       "27          Available instantly on compatible devices          False   \n",
       "28  FREE deliveryThis title has not yet been relea...          False   \n",
       "29          Available instantly on compatible devices          False   \n",
       "30            FREE delivery on $35 shipped by Amazon.          False   \n",
       "31                                Available instantly          False   \n",
       "32  FREE delivery Sat, Aug 17 on $35 of items ship...          False   \n",
       "33  FREE delivery Sat, Aug 17 on $35 of items ship...          False   \n",
       "34  FREE delivery Sat, Aug 17 on $35 of items ship...          False   \n",
       "35          Available instantly on compatible devices          False   \n",
       "36  FREE delivery Sat, Aug 17 on $35 of items ship...          False   \n",
       "37  FREE delivery Tue, Sep 17 on $35 of items ship...          False   \n",
       "38          Available instantly on compatible devices          False   \n",
       "39  FREE delivery Tue, Nov 12 on $35 of items ship...          False   \n",
       "40                                Available instantly          False   \n",
       "41          Available instantly on compatible devices          False   \n",
       "42                                Available instantly          False   \n",
       "43          Available instantly on compatible devices          False   \n",
       "44  FREE delivery Mon, Nov 4 on $35 of items shipp...          False   \n",
       "45          Available instantly on compatible devices          False   \n",
       "46  FREE delivery Mon, Oct 7 Or fastest delivery T...          False   \n",
       "47  FREE delivery Tue, Oct 8 on $35 of items shipp...          False   \n",
       "\n",
       "    unit_price unit_count  \n",
       "0          NaN        NaN  \n",
       "1          NaN        NaN  \n",
       "2        $0.59        0.0  \n",
       "3        $0.25        2.0  \n",
       "4          NaN        NaN  \n",
       "5          NaN        NaN  \n",
       "6          NaN        NaN  \n",
       "7          NaN        NaN  \n",
       "8          NaN        NaN  \n",
       "9          NaN        NaN  \n",
       "10         NaN        NaN  \n",
       "11         NaN        NaN  \n",
       "12         NaN        NaN  \n",
       "13         NaN        NaN  \n",
       "14         NaN        NaN  \n",
       "15         NaN        NaN  \n",
       "16       $0.48       60.0  \n",
       "17         NaN        NaN  \n",
       "18         NaN        NaN  \n",
       "19         NaN        NaN  \n",
       "20         NaN        NaN  \n",
       "21         NaN        NaN  \n",
       "22         NaN        NaN  \n",
       "23       $2.05       11.0  \n",
       "24         NaN        NaN  \n",
       "25         NaN        NaN  \n",
       "26         NaN        NaN  \n",
       "27         NaN        NaN  \n",
       "28         NaN        NaN  \n",
       "29         NaN        NaN  \n",
       "30         NaN        NaN  \n",
       "31         NaN        NaN  \n",
       "32         NaN        NaN  \n",
       "33         NaN        NaN  \n",
       "34         NaN        NaN  \n",
       "35         NaN        NaN  \n",
       "36         NaN        NaN  \n",
       "37         NaN        NaN  \n",
       "38         NaN        NaN  \n",
       "39         NaN        NaN  \n",
       "40         NaN        NaN  \n",
       "41         NaN        NaN  \n",
       "42         NaN        NaN  \n",
       "43         NaN        NaN  \n",
       "44         NaN        NaN  \n",
       "45         NaN        NaN  \n",
       "46         NaN        NaN  \n",
       "47         NaN        NaN  \n",
       "\n",
       "[48 rows x 21 columns]"
      ]
     },
     "execution_count": 144,
     "metadata": {},
     "output_type": "execute_result"
    }
   ],
   "source": [
    "import http.client\n",
    "import json\n",
    "import pandas as pd\n",
    "\n",
    "conn = http.client.HTTPSConnection(\"real-time-amazon-data.p.rapidapi.com\")\n",
    "\n",
    "headers = {\n",
    "    'x-rapidapi-key': \"8f32f5dfb5mshb013aed486980dap16f9c9jsn126d47ed5694\",\n",
    "    'x-rapidapi-host': \"real-time-amazon-data.p.rapidapi.com\"\n",
    "}\n",
    "\n",
    "conn.request(\"GET\", \"/products-by-category?category_id=2478868012&page=1&country=US&sort_by=RELEVANCE&product_condition=ALL&is_prime=false\", headers=headers)\n",
    "\n",
    "res = conn.getresponse()\n",
    "data = res.read()\n",
    "\n",
    "data_str = data.decode(\"utf-8\")\n",
    "data_json = json.loads(data_str)\n",
    "\n",
    "products = data_json['data']['products']\n",
    "\n",
    "df = pd.DataFrame(products)\n",
    "\n",
    "df.reset_index()\n"
   ]
  },
  {
   "cell_type": "code",
   "execution_count": null,
   "id": "41faa7d1-0e8a-47b5-94bf-487f1fba5f33",
   "metadata": {},
   "outputs": [],
   "source": []
  }
 ],
 "metadata": {
  "kernelspec": {
   "display_name": "Python 3 (ipykernel)",
   "language": "python",
   "name": "python3"
  },
  "language_info": {
   "codemirror_mode": {
    "name": "ipython",
    "version": 3
   },
   "file_extension": ".py",
   "mimetype": "text/x-python",
   "name": "python",
   "nbconvert_exporter": "python",
   "pygments_lexer": "ipython3",
   "version": "3.12.2"
  }
 },
 "nbformat": 4,
 "nbformat_minor": 5
}
